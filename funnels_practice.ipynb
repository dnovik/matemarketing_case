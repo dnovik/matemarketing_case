{
 "cells": [
  {
   "cell_type": "markdown",
   "metadata": {},
   "source": [
    "# Fun with funnels\n",
    "## Logs API\n",
    "\n",
    "`Logs API` позволяет выгрузить сырые данные со счетчика.\n",
    "\n",
    "Документация по Logs API - https://tech.yandex.ru/metrika/doc/api2/logs/intro-docpage/\n",
    "\n",
    "Данные для этого кейса также доступны на Яндекс.Диске - https://yadi.sk/d/XJMDdTDmDO-c9g\n",
    "\n",
    "### Шаг 1: получаем токен\n",
    "Для работы с API необходимо получить свой токен - https://tech.yandex.ru/oauth/doc/dg/tasks/get-oauth-token-docpage/\n",
    "\n",
    "Создаем приложение тут (указываем права для чтения в Яндекс.Метрике) - https://oauth.yandex.ru/client/new\n",
    "\n",
    "Переходим по ссылке вида - `https://oauth.yandex.ru/authorize?response_type=token&client_id=<идентификатор приложения>`"
   ]
  },
  {
   "cell_type": "code",
   "execution_count": 3,
   "metadata": {
    "collapsed": false
   },
   "outputs": [],
   "source": [
    "with open('token.txt') as f:\n",
    "    TOKEN = f.read().strip()"
   ]
  },
  {
   "cell_type": "markdown",
   "metadata": {},
   "source": [
    "### Шаг 2: проверяем, можно ли создать запрос в Logs API"
   ]
  },
  {
   "cell_type": "code",
   "execution_count": 4,
   "metadata": {
    "collapsed": true
   },
   "outputs": [],
   "source": [
    "import requests\n",
    "import pandas as pd\n",
    "import StringIO\n",
    "import datetime\n",
    "import json\n",
    "from urllib import urlencode\n",
    "\n",
    "import sys\n",
    "stdin, stdout, stderr = sys.stdin, sys.stdout, sys.stderr\n",
    "reload(sys)\n",
    "sys.stdin, sys.stdout, sys.stderr = stdin, stdout, stderr\n",
    "sys.setdefaultencoding('utf8')"
   ]
  },
  {
   "cell_type": "code",
   "execution_count": 5,
   "metadata": {
    "collapsed": true
   },
   "outputs": [],
   "source": [
    "API_HOST = 'https://api-metrika.yandex.ru'\n",
    "COUNTER_ID = 51017531\n",
    "START_DATE = '2018-07-01'\n",
    "END_DATE = '2018-07-31'\n",
    "SOURCE = 'hits'\n",
    "API_FIELDS = ('ym:pv:date', 'ym:pv:dateTime', 'ym:pv:URL', 'ym:pv:deviceCategory', \n",
    "         'ym:pv:operatingSystemRoot', 'ym:pv:clientID', 'ym:pv:browser', 'ym:pv:lastTrafficSource')\n"
   ]
  },
  {
   "cell_type": "code",
   "execution_count": 6,
   "metadata": {
    "collapsed": false
   },
   "outputs": [],
   "source": [
    "url_params = urlencode(\n",
    "    [\n",
    "        ('date1', START_DATE),\n",
    "        ('date2', END_DATE),\n",
    "        ('source', SOURCE),\n",
    "        ('fields', ','.join(API_FIELDS)),\n",
    "        ('oauth_token', TOKEN)\n",
    "    ]\n",
    ")\n",
    "\n",
    "url = '{host}/management/v1/counter/{counter_id}/logrequests/evaluate?'\\\n",
    "    .format(host=API_HOST, counter_id=COUNTER_ID) + url_params\n",
    "\n",
    "r = requests.get(url)"
   ]
  },
  {
   "cell_type": "code",
   "execution_count": 7,
   "metadata": {
    "collapsed": false
   },
   "outputs": [
    {
     "data": {
      "text/plain": [
       "200"
      ]
     },
     "execution_count": 7,
     "metadata": {},
     "output_type": "execute_result"
    }
   ],
   "source": [
    "r.status_code"
   ]
  },
  {
   "cell_type": "code",
   "execution_count": 8,
   "metadata": {
    "collapsed": false
   },
   "outputs": [
    {
     "data": {
      "text/plain": [
       "{u'max_possible_day_quantity': 2847, u'possible': True}"
      ]
     },
     "execution_count": 8,
     "metadata": {},
     "output_type": "execute_result"
    }
   ],
   "source": [
    "json.loads(r.text)['log_request_evaluation']"
   ]
  },
  {
   "cell_type": "markdown",
   "metadata": {},
   "source": [
    "### Шаг 3: создаем запрос"
   ]
  },
  {
   "cell_type": "code",
   "execution_count": 9,
   "metadata": {
    "collapsed": true
   },
   "outputs": [],
   "source": [
    "url_params = urlencode(\n",
    "    [\n",
    "        ('date1', START_DATE),\n",
    "        ('date2', END_DATE),\n",
    "        ('source', SOURCE),\n",
    "        ('fields', ','.join(sorted(API_FIELDS, key=lambda s: s.lower()))),\n",
    "        ('oauth_token', TOKEN)\n",
    "    ]\n",
    ")\n",
    "url = '{host}/management/v1/counter/{counter_id}/logrequests?'\\\n",
    "    .format(host=API_HOST,\n",
    "            counter_id=COUNTER_ID) \\\n",
    "      + url_params\n",
    "\n",
    "r = requests.post(url)"
   ]
  },
  {
   "cell_type": "code",
   "execution_count": 10,
   "metadata": {
    "collapsed": false
   },
   "outputs": [
    {
     "data": {
      "text/plain": [
       "200"
      ]
     },
     "execution_count": 10,
     "metadata": {},
     "output_type": "execute_result"
    }
   ],
   "source": [
    "r.status_code"
   ]
  },
  {
   "cell_type": "code",
   "execution_count": 11,
   "metadata": {
    "collapsed": false
   },
   "outputs": [
    {
     "data": {
      "text/plain": [
       "{u'counter_id': 51017531,\n",
       " u'date1': u'2018-07-01',\n",
       " u'date2': u'2018-07-31',\n",
       " u'fields': [u'ym:pv:browser',\n",
       "  u'ym:pv:clientID',\n",
       "  u'ym:pv:date',\n",
       "  u'ym:pv:dateTime',\n",
       "  u'ym:pv:deviceCategory',\n",
       "  u'ym:pv:lastTrafficSource',\n",
       "  u'ym:pv:operatingSystemRoot',\n",
       "  u'ym:pv:URL'],\n",
       " u'request_id': 1706834,\n",
       " u'source': u'hits',\n",
       " u'status': u'created'}"
      ]
     },
     "execution_count": 11,
     "metadata": {},
     "output_type": "execute_result"
    }
   ],
   "source": [
    "json.loads(r.text)['log_request']"
   ]
  },
  {
   "cell_type": "code",
   "execution_count": 12,
   "metadata": {
    "collapsed": true
   },
   "outputs": [],
   "source": [
    "request_id = json.loads(r.text)['log_request']['request_id']"
   ]
  },
  {
   "cell_type": "markdown",
   "metadata": {},
   "source": [
    "### Шаг 4: ждем окончания обработки"
   ]
  },
  {
   "cell_type": "code",
   "execution_count": 40,
   "metadata": {
    "collapsed": false
   },
   "outputs": [
    {
     "name": "stdout",
     "output_type": "stream",
     "text": [
      "trying\n",
      "{\n",
      "    \"date1\": \"2018-07-01\", \n",
      "    \"status\": \"created\", \n",
      "    \"date2\": \"2018-07-31\", \n",
      "    \"counter_id\": 51017531, \n",
      "    \"fields\": [\n",
      "        \"ym:pv:browser\", \n",
      "        \"ym:pv:clientID\", \n",
      "        \"ym:pv:date\", \n",
      "        \"ym:pv:dateTime\", \n",
      "        \"ym:pv:deviceCategory\", \n",
      "        \"ym:pv:lastTrafficSource\", \n",
      "        \"ym:pv:operatingSystemRoot\", \n",
      "        \"ym:pv:URL\"\n",
      "    ], \n",
      "    \"source\": \"hits\", \n",
      "    \"request_id\": 1706834\n",
      "}\n",
      "trying\n",
      "{\n",
      "    \"date1\": \"2018-07-01\", \n",
      "    \"status\": \"processed\", \n",
      "    \"date2\": \"2018-07-31\", \n",
      "    \"counter_id\": 51017531, \n",
      "    \"fields\": [\n",
      "        \"ym:pv:browser\", \n",
      "        \"ym:pv:clientID\", \n",
      "        \"ym:pv:date\", \n",
      "        \"ym:pv:dateTime\", \n",
      "        \"ym:pv:deviceCategory\", \n",
      "        \"ym:pv:lastTrafficSource\", \n",
      "        \"ym:pv:operatingSystemRoot\", \n",
      "        \"ym:pv:URL\"\n",
      "    ], \n",
      "    \"source\": \"hits\", \n",
      "    \"parts\": [\n",
      "        {\n",
      "            \"part_number\": 0, \n",
      "            \"size\": 83750280\n",
      "        }, \n",
      "        {\n",
      "            \"part_number\": 1, \n",
      "            \"size\": 136\n",
      "        }\n",
      "    ], \n",
      "    \"request_id\": 1706834, \n",
      "    \"size\": 83750416\n",
      "}\n"
     ]
    }
   ],
   "source": [
    "status = 'created'\n",
    "while status == 'created':\n",
    "    time.sleep(60)\n",
    "    print 'trying'\n",
    "    url = '{host}/management/v1/counter/{counter_id}/logrequest/{request_id}?oauth_token={token}' \\\n",
    "            .format(request_id=request_id,\n",
    "                    counter_id=COUNTER_ID,\n",
    "                    token=TOKEN,\n",
    "                    host=API_HOST)\n",
    "\n",
    "    r = requests.get(url)\n",
    "    if r.status_code == 200:\n",
    "        status = json.loads(r.text)['log_request']['status']\n",
    "        print json.dumps(json.loads(r.text)['log_request'], indent = 4)\n",
    "    else:\n",
    "        raise ValueError, r.text"
   ]
  },
  {
   "cell_type": "code",
   "execution_count": 41,
   "metadata": {
    "collapsed": false
   },
   "outputs": [
    {
     "data": {
      "text/plain": [
       "{u'counter_id': 51017531,\n",
       " u'date1': u'2018-07-01',\n",
       " u'date2': u'2018-07-31',\n",
       " u'fields': [u'ym:pv:browser',\n",
       "  u'ym:pv:clientID',\n",
       "  u'ym:pv:date',\n",
       "  u'ym:pv:dateTime',\n",
       "  u'ym:pv:deviceCategory',\n",
       "  u'ym:pv:lastTrafficSource',\n",
       "  u'ym:pv:operatingSystemRoot',\n",
       "  u'ym:pv:URL'],\n",
       " u'parts': [{u'part_number': 0, u'size': 83750280},\n",
       "  {u'part_number': 1, u'size': 136}],\n",
       " u'request_id': 1706834,\n",
       " u'size': 83750416,\n",
       " u'source': u'hits',\n",
       " u'status': u'processed'}"
      ]
     },
     "execution_count": 41,
     "metadata": {},
     "output_type": "execute_result"
    }
   ],
   "source": [
    "json.loads(r.text)['log_request']"
   ]
  },
  {
   "cell_type": "code",
   "execution_count": 42,
   "metadata": {
    "collapsed": false
   },
   "outputs": [
    {
     "data": {
      "text/plain": [
       "[{u'part_number': 0, u'size': 83750280}, {u'part_number': 1, u'size': 136}]"
      ]
     },
     "execution_count": 42,
     "metadata": {},
     "output_type": "execute_result"
    }
   ],
   "source": [
    "parts = json.loads(r.text)['log_request']['parts']\n",
    "parts"
   ]
  },
  {
   "cell_type": "markdown",
   "metadata": {},
   "source": [
    "### Шаг 5: выгружаем данные"
   ]
  },
  {
   "cell_type": "code",
   "execution_count": 43,
   "metadata": {
    "collapsed": true
   },
   "outputs": [],
   "source": [
    "tmp_dfs = []\n",
    "for part_num in map(lambda x: x['part_number'], parts):\n",
    "    url = '{host}/management/v1/counter/{counter_id}/logrequest/{request_id}/part/{part}/download?oauth_token={token}' \\\n",
    "            .format(\n",
    "                host=API_HOST,\n",
    "                counter_id=COUNTER_ID,\n",
    "                request_id=request_id,\n",
    "                part=part_num,\n",
    "                token=TOKEN\n",
    "            )\n",
    "\n",
    "    r = requests.get(url)\n",
    "    if r.status_code == 200:\n",
    "        tmp_df = pd.read_csv(StringIO.StringIO(r.text), sep = '\\t')\n",
    "        tmp_dfs.append(tmp_df)\n",
    "    else:\n",
    "        raise ValueError, r.text\n",
    "        \n",
    "logs_df = pd.concat(tmp_dfs)"
   ]
  },
  {
   "cell_type": "code",
   "execution_count": 44,
   "metadata": {
    "collapsed": false
   },
   "outputs": [
    {
     "data": {
      "text/plain": [
       "(757936, 8)"
      ]
     },
     "execution_count": 44,
     "metadata": {},
     "output_type": "execute_result"
    }
   ],
   "source": [
    "logs_df.shape"
   ]
  },
  {
   "cell_type": "code",
   "execution_count": 45,
   "metadata": {
    "collapsed": true
   },
   "outputs": [],
   "source": [
    "logs_df.to_csv('matemarketing_case_data.csv', sep = '\\t', index = False)"
   ]
  },
  {
   "cell_type": "markdown",
   "metadata": {},
   "source": []
  },
  {
   "cell_type": "markdown",
   "metadata": {},
   "source": [
    "## ClickHouse\n",
    "### Установка \n",
    "\n",
    "В первую очередь нам понадобится ClickHouse.\n",
    "ClickHouse можно установить на Linux и MAC (подробно про установку написано в документации https://clickhouse.yandex/).\n",
    "\n",
    "Также удобно запустить CH в Docker'e: первая команда поднимает clickhouse-server на порту 8123, а вторая - позволяет подключиться к консольному ClickHouse клиенту.\n",
    "```\n",
    "docker run -d --name clickhouse-server --publish=8123:8123 --publish=9000:9000 yandex/clickhouse-server\n",
    "docker run -it --rm --link clickhouse-server:9000 yandex/clickhouse-client --host clickhouse-server\n",
    "```\n",
    "\n",
    "Из библиотек для python нам понадобятся:\n",
    "* `requests`\n",
    "* `plotly`\n",
    "* `pandas`\n",
    "\n",
    "###  Функции для интеграции с ClickHouse\n",
    "\n",
    "Напишем функции для интеграции с ClickHouse: первая функция просто возвращает результат из DataBase, вторая же преобразует его в pandas DataFrame.\n",
    "\n",
    "Также напишем сразу удобную функцию для загрузки данных."
   ]
  },
  {
   "cell_type": "code",
   "execution_count": 46,
   "metadata": {
    "collapsed": false
   },
   "outputs": [],
   "source": [
    "CH_HOST = 'http://localhost:8123'\n",
    "pd.set_option('display.max_colwidth', 1000)\n",
    "\n",
    "def get_clickhouse_data(query, host = CH_HOST, connection_timeout = 1500):\n",
    "    r = requests.post(host, params = {'query': query}, timeout = connection_timeout)\n",
    "    if r.status_code == 200:\n",
    "        return r.text\n",
    "    else:\n",
    "        raise ValueError, r.text\n",
    "        \n",
    "def get_clickhouse_df(query, host = CH_HOST, connection_timeout = 1500):\n",
    "    data = get_clickhouse_data(query, host, connection_timeout) \n",
    "    df = pd.read_csv(StringIO.StringIO(data), sep = '\\t')\n",
    "    return df\n",
    "\n",
    "def upload(table, content, host=CH_HOST):\n",
    "    content = content.encode('utf-8')\n",
    "    query_dict = {\n",
    "             'query': 'INSERT INTO ' + table + ' FORMAT TabSeparatedWithNames '\n",
    "        }\n",
    "    r = requests.post(host, data=content, params=query_dict)\n",
    "    result = r.text\n",
    "    if r.status_code == 200:\n",
    "        return result\n",
    "    else:\n",
    "        raise ValueError(r.text)"
   ]
  },
  {
   "cell_type": "markdown",
   "metadata": {},
   "source": [
    "### Загружаем данные"
   ]
  },
  {
   "cell_type": "code",
   "execution_count": 47,
   "metadata": {
    "collapsed": false
   },
   "outputs": [
    {
     "data": {
      "text/html": [
       "<div>\n",
       "<style scoped>\n",
       "    .dataframe tbody tr th:only-of-type {\n",
       "        vertical-align: middle;\n",
       "    }\n",
       "\n",
       "    .dataframe tbody tr th {\n",
       "        vertical-align: top;\n",
       "    }\n",
       "\n",
       "    .dataframe thead th {\n",
       "        text-align: right;\n",
       "    }\n",
       "</style>\n",
       "<table border=\"1\" class=\"dataframe\">\n",
       "  <thead>\n",
       "    <tr style=\"text-align: right;\">\n",
       "      <th></th>\n",
       "      <th>ym:pv:browser</th>\n",
       "      <th>ym:pv:clientID</th>\n",
       "      <th>ym:pv:date</th>\n",
       "      <th>ym:pv:dateTime</th>\n",
       "      <th>ym:pv:deviceCategory</th>\n",
       "      <th>ym:pv:lastTrafficSource</th>\n",
       "      <th>ym:pv:operatingSystemRoot</th>\n",
       "      <th>ym:pv:URL</th>\n",
       "    </tr>\n",
       "  </thead>\n",
       "  <tbody>\n",
       "    <tr>\n",
       "      <th>0</th>\n",
       "      <td>safari_mobile</td>\n",
       "      <td>17078820655649821006</td>\n",
       "      <td>2018-07-27</td>\n",
       "      <td>2018-07-27 09:00:46</td>\n",
       "      <td>3</td>\n",
       "      <td>ad</td>\n",
       "      <td>ios_double</td>\n",
       "      <td>https://supermarket.ru/product</td>\n",
       "    </tr>\n",
       "    <tr>\n",
       "      <th>1</th>\n",
       "      <td>ucbrowser</td>\n",
       "      <td>10376593093900581806</td>\n",
       "      <td>2018-07-27</td>\n",
       "      <td>2018-07-27 19:43:32</td>\n",
       "      <td>2</td>\n",
       "      <td>ad</td>\n",
       "      <td>android</td>\n",
       "      <td>https://supermarket.ru/product</td>\n",
       "    </tr>\n",
       "    <tr>\n",
       "      <th>2</th>\n",
       "      <td>ucbrowser</td>\n",
       "      <td>10376593093900581806</td>\n",
       "      <td>2018-07-27</td>\n",
       "      <td>2018-07-27 19:43:49</td>\n",
       "      <td>2</td>\n",
       "      <td>ad</td>\n",
       "      <td>android</td>\n",
       "      <td>https://supermarket.ru/product</td>\n",
       "    </tr>\n",
       "    <tr>\n",
       "      <th>3</th>\n",
       "      <td>chromemobile</td>\n",
       "      <td>15254990414923183452</td>\n",
       "      <td>2018-07-27</td>\n",
       "      <td>2018-07-27 15:54:29</td>\n",
       "      <td>2</td>\n",
       "      <td>organic</td>\n",
       "      <td>android</td>\n",
       "      <td>https://supermarket.ru/product</td>\n",
       "    </tr>\n",
       "    <tr>\n",
       "      <th>4</th>\n",
       "      <td>chrome</td>\n",
       "      <td>8540869803059348947</td>\n",
       "      <td>2018-07-27</td>\n",
       "      <td>2018-07-27 13:11:08</td>\n",
       "      <td>1</td>\n",
       "      <td>referral</td>\n",
       "      <td>windows</td>\n",
       "      <td>https://supermarket.ru/product</td>\n",
       "    </tr>\n",
       "  </tbody>\n",
       "</table>\n",
       "</div>"
      ],
      "text/plain": [
       "   ym:pv:browser        ym:pv:clientID  ym:pv:date       ym:pv:dateTime  \\\n",
       "0  safari_mobile  17078820655649821006  2018-07-27  2018-07-27 09:00:46   \n",
       "1      ucbrowser  10376593093900581806  2018-07-27  2018-07-27 19:43:32   \n",
       "2      ucbrowser  10376593093900581806  2018-07-27  2018-07-27 19:43:49   \n",
       "3   chromemobile  15254990414923183452  2018-07-27  2018-07-27 15:54:29   \n",
       "4         chrome   8540869803059348947  2018-07-27  2018-07-27 13:11:08   \n",
       "\n",
       "  ym:pv:deviceCategory ym:pv:lastTrafficSource ym:pv:operatingSystemRoot  \\\n",
       "0                    3                      ad                ios_double   \n",
       "1                    2                      ad                   android   \n",
       "2                    2                      ad                   android   \n",
       "3                    2                 organic                   android   \n",
       "4                    1                referral                   windows   \n",
       "\n",
       "                        ym:pv:URL  \n",
       "0  https://supermarket.ru/product  \n",
       "1  https://supermarket.ru/product  \n",
       "2  https://supermarket.ru/product  \n",
       "3  https://supermarket.ru/product  \n",
       "4  https://supermarket.ru/product  "
      ]
     },
     "execution_count": 47,
     "metadata": {},
     "output_type": "execute_result"
    }
   ],
   "source": [
    "logs_df.head()"
   ]
  },
  {
   "cell_type": "code",
   "execution_count": 48,
   "metadata": {
    "collapsed": false
   },
   "outputs": [
    {
     "data": {
      "text/plain": [
       "u''"
      ]
     },
     "execution_count": 48,
     "metadata": {},
     "output_type": "execute_result"
    }
   ],
   "source": [
    "q = 'drop table if exists hits'\n",
    "get_clickhouse_data(q)\n",
    "\n",
    "q = '''\n",
    "create table hits (\n",
    "    Browser String,\n",
    "    ClientID UInt64,\n",
    "    EventDate Date,\n",
    "    EventTime DateTime,\n",
    "    DeviceCategory String,\n",
    "    TraficSource String,\n",
    "    OSRoot String,\n",
    "    URL String\n",
    ") ENGINE = MergeTree(EventDate, intHash32(ClientID), (EventDate, intHash32(ClientID)), 8192)\n",
    "'''\n",
    "\n",
    "get_clickhouse_data(q)"
   ]
  },
  {
   "cell_type": "code",
   "execution_count": 49,
   "metadata": {
    "collapsed": false
   },
   "outputs": [
    {
     "name": "stdout",
     "output_type": "stream",
     "text": [
      "CPU times: user 4.64 s, sys: 432 ms, total: 5.07 s\n",
      "Wall time: 6.93 s\n"
     ]
    },
    {
     "data": {
      "text/plain": [
       "u''"
      ]
     },
     "execution_count": 49,
     "metadata": {},
     "output_type": "execute_result"
    }
   ],
   "source": [
    "%%time\n",
    "upload(\n",
    "    'hits',\n",
    "    logs_df.to_csv(index = False, sep = '\\t'))"
   ]
  },
  {
   "cell_type": "markdown",
   "metadata": {},
   "source": [
    "### Разминка: смотрим на пути пользователей"
   ]
  },
  {
   "cell_type": "code",
   "execution_count": 50,
   "metadata": {
    "collapsed": false
   },
   "outputs": [
    {
     "data": {
      "text/html": [
       "<div>\n",
       "<style scoped>\n",
       "    .dataframe tbody tr th:only-of-type {\n",
       "        vertical-align: middle;\n",
       "    }\n",
       "\n",
       "    .dataframe tbody tr th {\n",
       "        vertical-align: top;\n",
       "    }\n",
       "\n",
       "    .dataframe thead th {\n",
       "        text-align: right;\n",
       "    }\n",
       "</style>\n",
       "<table border=\"1\" class=\"dataframe\">\n",
       "  <thead>\n",
       "    <tr style=\"text-align: right;\">\n",
       "      <th></th>\n",
       "      <th>URL</th>\n",
       "      <th>users</th>\n",
       "      <th>hits</th>\n",
       "    </tr>\n",
       "  </thead>\n",
       "  <tbody>\n",
       "    <tr>\n",
       "      <th>0</th>\n",
       "      <td>https://supermarket.ru/product</td>\n",
       "      <td>86681</td>\n",
       "      <td>267636</td>\n",
       "    </tr>\n",
       "    <tr>\n",
       "      <th>1</th>\n",
       "      <td>https://supermarket.ru/catalog</td>\n",
       "      <td>64045</td>\n",
       "      <td>232665</td>\n",
       "    </tr>\n",
       "    <tr>\n",
       "      <th>2</th>\n",
       "      <td>https://supermarket.ru/main</td>\n",
       "      <td>53855</td>\n",
       "      <td>103584</td>\n",
       "    </tr>\n",
       "    <tr>\n",
       "      <th>3</th>\n",
       "      <td>https://supermarket.ru/promo</td>\n",
       "      <td>20618</td>\n",
       "      <td>38904</td>\n",
       "    </tr>\n",
       "    <tr>\n",
       "      <th>4</th>\n",
       "      <td>https://supermarket.ru/search</td>\n",
       "      <td>19200</td>\n",
       "      <td>49732</td>\n",
       "    </tr>\n",
       "    <tr>\n",
       "      <th>5</th>\n",
       "      <td>https://supermarket.ru/promo_action_1</td>\n",
       "      <td>5376</td>\n",
       "      <td>7793</td>\n",
       "    </tr>\n",
       "    <tr>\n",
       "      <th>6</th>\n",
       "      <td>https://supermarket.ru/shops</td>\n",
       "      <td>5274</td>\n",
       "      <td>9509</td>\n",
       "    </tr>\n",
       "    <tr>\n",
       "      <th>7</th>\n",
       "      <td>https://supermarket.ru/blog</td>\n",
       "      <td>4160</td>\n",
       "      <td>5813</td>\n",
       "    </tr>\n",
       "    <tr>\n",
       "      <th>8</th>\n",
       "      <td>https://supermarket.ru/cards</td>\n",
       "      <td>3029</td>\n",
       "      <td>10821</td>\n",
       "    </tr>\n",
       "    <tr>\n",
       "      <th>9</th>\n",
       "      <td>https://supermarket.ru/basket</td>\n",
       "      <td>2874</td>\n",
       "      <td>11338</td>\n",
       "    </tr>\n",
       "  </tbody>\n",
       "</table>\n",
       "</div>"
      ],
      "text/plain": [
       "                                     URL  users    hits\n",
       "0         https://supermarket.ru/product  86681  267636\n",
       "1         https://supermarket.ru/catalog  64045  232665\n",
       "2            https://supermarket.ru/main  53855  103584\n",
       "3           https://supermarket.ru/promo  20618   38904\n",
       "4          https://supermarket.ru/search  19200   49732\n",
       "5  https://supermarket.ru/promo_action_1   5376    7793\n",
       "6           https://supermarket.ru/shops   5274    9509\n",
       "7            https://supermarket.ru/blog   4160    5813\n",
       "8           https://supermarket.ru/cards   3029   10821\n",
       "9          https://supermarket.ru/basket   2874   11338"
      ]
     },
     "execution_count": 50,
     "metadata": {},
     "output_type": "execute_result"
    }
   ],
   "source": [
    "q = '''\n",
    "SELECT\n",
    "    URL,\n",
    "    uniq(ClientID) as users,\n",
    "    count() as hits\n",
    "FROM hits\n",
    "GROUP BY URL\n",
    "ORDER BY users DESC\n",
    "LIMIT 10\n",
    "FORMAT TabSeparatedWithNames\n",
    "'''\n",
    "\n",
    "get_clickhouse_df(q)"
   ]
  },
  {
   "cell_type": "code",
   "execution_count": 51,
   "metadata": {
    "collapsed": false
   },
   "outputs": [
    {
     "data": {
      "text/html": [
       "<div>\n",
       "<style scoped>\n",
       "    .dataframe tbody tr th:only-of-type {\n",
       "        vertical-align: middle;\n",
       "    }\n",
       "\n",
       "    .dataframe tbody tr th {\n",
       "        vertical-align: top;\n",
       "    }\n",
       "\n",
       "    .dataframe thead th {\n",
       "        text-align: right;\n",
       "    }\n",
       "</style>\n",
       "<table border=\"1\" class=\"dataframe\">\n",
       "  <thead>\n",
       "    <tr style=\"text-align: right;\">\n",
       "      <th></th>\n",
       "      <th>ClientID</th>\n",
       "      <th>path</th>\n",
       "      <th>path_lim</th>\n",
       "    </tr>\n",
       "  </thead>\n",
       "  <tbody>\n",
       "    <tr>\n",
       "      <th>0</th>\n",
       "      <td>11328496494700445631</td>\n",
       "      <td>['https://supermarket.ru/catalog']</td>\n",
       "      <td>['https://supermarket.ru/catalog']</td>\n",
       "    </tr>\n",
       "    <tr>\n",
       "      <th>1</th>\n",
       "      <td>4378518504153020253</td>\n",
       "      <td>['https://supermarket.ru/product']</td>\n",
       "      <td>['https://supermarket.ru/product']</td>\n",
       "    </tr>\n",
       "    <tr>\n",
       "      <th>2</th>\n",
       "      <td>3573365835552612154</td>\n",
       "      <td>['https://supermarket.ru/product']</td>\n",
       "      <td>['https://supermarket.ru/product']</td>\n",
       "    </tr>\n",
       "    <tr>\n",
       "      <th>3</th>\n",
       "      <td>6722497546488043716</td>\n",
       "      <td>['https://supermarket.ru/main','https://supermarket.ru/search','https://supermarket.ru/product','https://supermarket.ru/search','https://supermarket.ru/product','https://supermarket.ru/product','https://supermarket.ru/search','https://supermarket.ru/product','https://supermarket.ru/user_profile','https://supermarket.ru/product','https://supermarket.ru/product','https://supermarket.ru/main','https://supermarket.ru/catalog','https://supermarket.ru/catalog','https://supermarket.ru/product']</td>\n",
       "      <td>['https://supermarket.ru/main','https://supermarket.ru/search','https://supermarket.ru/product','https://supermarket.ru/search','https://supermarket.ru/product']</td>\n",
       "    </tr>\n",
       "    <tr>\n",
       "      <th>4</th>\n",
       "      <td>11782234878805415335</td>\n",
       "      <td>['https://supermarket.ru/product','https://supermarket.ru/main','https://supermarket.ru/promo','https://supermarket.ru/search','https://supermarket.ru/search','https://supermarket.ru/product','https://supermarket.ru/search']</td>\n",
       "      <td>['https://supermarket.ru/product','https://supermarket.ru/main','https://supermarket.ru/promo','https://supermarket.ru/search','https://supermarket.ru/search']</td>\n",
       "    </tr>\n",
       "    <tr>\n",
       "      <th>5</th>\n",
       "      <td>12235634756572665986</td>\n",
       "      <td>['https://supermarket.ru/search']</td>\n",
       "      <td>['https://supermarket.ru/search']</td>\n",
       "    </tr>\n",
       "    <tr>\n",
       "      <th>6</th>\n",
       "      <td>6390005486945094701</td>\n",
       "      <td>['https://supermarket.ru/main','https://supermarket.ru/catalog']</td>\n",
       "      <td>['https://supermarket.ru/main','https://supermarket.ru/catalog']</td>\n",
       "    </tr>\n",
       "    <tr>\n",
       "      <th>7</th>\n",
       "      <td>1755001460118103603</td>\n",
       "      <td>['https://supermarket.ru/promo','https://supermarket.ru/catalog','https://supermarket.ru/catalog','https://supermarket.ru/search']</td>\n",
       "      <td>['https://supermarket.ru/promo','https://supermarket.ru/catalog','https://supermarket.ru/catalog','https://supermarket.ru/search']</td>\n",
       "    </tr>\n",
       "    <tr>\n",
       "      <th>8</th>\n",
       "      <td>4444492313274277176</td>\n",
       "      <td>['https://supermarket.ru/product']</td>\n",
       "      <td>['https://supermarket.ru/product']</td>\n",
       "    </tr>\n",
       "    <tr>\n",
       "      <th>9</th>\n",
       "      <td>1789936309455297152</td>\n",
       "      <td>['https://supermarket.ru/main','https://supermarket.ru/catalog','https://supermarket.ru/catalog','https://supermarket.ru/product','https://supermarket.ru/product','https://supermarket.ru/product','https://supermarket.ru/product','https://supermarket.ru/product','https://supermarket.ru/promo','https://supermarket.ru/promo_action_1','https://supermarket.ru/promo_action_1_rules','https://supermarket.ru/promo_action_1','https://supermarket.ru/promo_action_1_rules','https://supermarket.ru/main','https://supermarket.ru/product','https://supermarket.ru/promo','https://supermarket.ru/promo_action_1','https://supermarket.ru/promo_action_1','https://supermarket.ru/promo_action_1','https://supermarket.ru/main','https://supermarket.ru/catalog','https://supermarket.ru/main','https://supermarket.ru/product','https://supermarket.ru/main','https://supermarket.ru/main']</td>\n",
       "      <td>['https://supermarket.ru/main','https://supermarket.ru/catalog','https://supermarket.ru/catalog','https://supermarket.ru/product','https://supermarket.ru/product']</td>\n",
       "    </tr>\n",
       "  </tbody>\n",
       "</table>\n",
       "</div>"
      ],
      "text/plain": [
       "               ClientID  \\\n",
       "0  11328496494700445631   \n",
       "1   4378518504153020253   \n",
       "2   3573365835552612154   \n",
       "3   6722497546488043716   \n",
       "4  11782234878805415335   \n",
       "5  12235634756572665986   \n",
       "6   6390005486945094701   \n",
       "7   1755001460118103603   \n",
       "8   4444492313274277176   \n",
       "9   1789936309455297152   \n",
       "\n",
       "                                                                                                                                                                                                                                                                                                                                                                                                                                                                                                                                                                                                                                                                                                                                                                                                                                                                                                path  \\\n",
       "0                                                                                                                                                                                                                                                                                                                                                                                                                                                                                                                                                                                                                                                                                                                                                                                                                                                                 ['https://supermarket.ru/catalog']   \n",
       "1                                                                                                                                                                                                                                                                                                                                                                                                                                                                                                                                                                                                                                                                                                                                                                                                                                                                 ['https://supermarket.ru/product']   \n",
       "2                                                                                                                                                                                                                                                                                                                                                                                                                                                                                                                                                                                                                                                                                                                                                                                                                                                                 ['https://supermarket.ru/product']   \n",
       "3                                                                                                                                                                                                                                                                                                                                                                                       ['https://supermarket.ru/main','https://supermarket.ru/search','https://supermarket.ru/product','https://supermarket.ru/search','https://supermarket.ru/product','https://supermarket.ru/product','https://supermarket.ru/search','https://supermarket.ru/product','https://supermarket.ru/user_profile','https://supermarket.ru/product','https://supermarket.ru/product','https://supermarket.ru/main','https://supermarket.ru/catalog','https://supermarket.ru/catalog','https://supermarket.ru/product']   \n",
       "4                                                                                                                                                                                                                                                                                                                                                                                                                                                                                                                                                                                                                                                                   ['https://supermarket.ru/product','https://supermarket.ru/main','https://supermarket.ru/promo','https://supermarket.ru/search','https://supermarket.ru/search','https://supermarket.ru/product','https://supermarket.ru/search']   \n",
       "5                                                                                                                                                                                                                                                                                                                                                                                                                                                                                                                                                                                                                                                                                                                                                                                                                                                                  ['https://supermarket.ru/search']   \n",
       "6                                                                                                                                                                                                                                                                                                                                                                                                                                                                                                                                                                                                                                                                                                                                                                                                                                   ['https://supermarket.ru/main','https://supermarket.ru/catalog']   \n",
       "7                                                                                                                                                                                                                                                                                                                                                                                                                                                                                                                                                                                                                                                                                                                                                                 ['https://supermarket.ru/promo','https://supermarket.ru/catalog','https://supermarket.ru/catalog','https://supermarket.ru/search']   \n",
       "8                                                                                                                                                                                                                                                                                                                                                                                                                                                                                                                                                                                                                                                                                                                                                                                                                                                                 ['https://supermarket.ru/product']   \n",
       "9  ['https://supermarket.ru/main','https://supermarket.ru/catalog','https://supermarket.ru/catalog','https://supermarket.ru/product','https://supermarket.ru/product','https://supermarket.ru/product','https://supermarket.ru/product','https://supermarket.ru/product','https://supermarket.ru/promo','https://supermarket.ru/promo_action_1','https://supermarket.ru/promo_action_1_rules','https://supermarket.ru/promo_action_1','https://supermarket.ru/promo_action_1_rules','https://supermarket.ru/main','https://supermarket.ru/product','https://supermarket.ru/promo','https://supermarket.ru/promo_action_1','https://supermarket.ru/promo_action_1','https://supermarket.ru/promo_action_1','https://supermarket.ru/main','https://supermarket.ru/catalog','https://supermarket.ru/main','https://supermarket.ru/product','https://supermarket.ru/main','https://supermarket.ru/main']   \n",
       "\n",
       "                                                                                                                                                              path_lim  \n",
       "0                                                                                                                                   ['https://supermarket.ru/catalog']  \n",
       "1                                                                                                                                   ['https://supermarket.ru/product']  \n",
       "2                                                                                                                                   ['https://supermarket.ru/product']  \n",
       "3    ['https://supermarket.ru/main','https://supermarket.ru/search','https://supermarket.ru/product','https://supermarket.ru/search','https://supermarket.ru/product']  \n",
       "4      ['https://supermarket.ru/product','https://supermarket.ru/main','https://supermarket.ru/promo','https://supermarket.ru/search','https://supermarket.ru/search']  \n",
       "5                                                                                                                                    ['https://supermarket.ru/search']  \n",
       "6                                                                                                     ['https://supermarket.ru/main','https://supermarket.ru/catalog']  \n",
       "7                                   ['https://supermarket.ru/promo','https://supermarket.ru/catalog','https://supermarket.ru/catalog','https://supermarket.ru/search']  \n",
       "8                                                                                                                                   ['https://supermarket.ru/product']  \n",
       "9  ['https://supermarket.ru/main','https://supermarket.ru/catalog','https://supermarket.ru/catalog','https://supermarket.ru/product','https://supermarket.ru/product']  "
      ]
     },
     "execution_count": 51,
     "metadata": {},
     "output_type": "execute_result"
    }
   ],
   "source": [
    "q = '''\n",
    "SELECT\n",
    "    ClientID,\n",
    "    groupArray(URL) as path,\n",
    "    arraySlice(groupArray(URL), 1, 5) as path_lim\n",
    "FROM\n",
    "    (SELECT * FROM hits ORDER BY ClientID, EventTime)\n",
    "GROUP BY ClientID\n",
    "LIMIT 10\n",
    "FORMAT TabSeparatedWithNames\n",
    "'''\n",
    "\n",
    "get_clickhouse_df(q)"
   ]
  },
  {
   "cell_type": "code",
   "execution_count": 52,
   "metadata": {
    "collapsed": false
   },
   "outputs": [
    {
     "data": {
      "text/html": [
       "<div>\n",
       "<style scoped>\n",
       "    .dataframe tbody tr th:only-of-type {\n",
       "        vertical-align: middle;\n",
       "    }\n",
       "\n",
       "    .dataframe tbody tr th {\n",
       "        vertical-align: top;\n",
       "    }\n",
       "\n",
       "    .dataframe thead th {\n",
       "        text-align: right;\n",
       "    }\n",
       "</style>\n",
       "<table border=\"1\" class=\"dataframe\">\n",
       "  <thead>\n",
       "    <tr style=\"text-align: right;\">\n",
       "      <th></th>\n",
       "      <th>path_lim</th>\n",
       "      <th>users</th>\n",
       "    </tr>\n",
       "  </thead>\n",
       "  <tbody>\n",
       "    <tr>\n",
       "      <th>0</th>\n",
       "      <td>['https://supermarket.ru/product']</td>\n",
       "      <td>28563</td>\n",
       "    </tr>\n",
       "    <tr>\n",
       "      <th>1</th>\n",
       "      <td>['https://supermarket.ru/catalog']</td>\n",
       "      <td>10298</td>\n",
       "    </tr>\n",
       "    <tr>\n",
       "      <th>2</th>\n",
       "      <td>['https://supermarket.ru/promo']</td>\n",
       "      <td>5827</td>\n",
       "    </tr>\n",
       "    <tr>\n",
       "      <th>3</th>\n",
       "      <td>['https://supermarket.ru/product','https://supermarket.ru/product']</td>\n",
       "      <td>5547</td>\n",
       "    </tr>\n",
       "    <tr>\n",
       "      <th>4</th>\n",
       "      <td>['https://supermarket.ru/main']</td>\n",
       "      <td>3638</td>\n",
       "    </tr>\n",
       "    <tr>\n",
       "      <th>5</th>\n",
       "      <td>['https://supermarket.ru/main','https://supermarket.ru/catalog']</td>\n",
       "      <td>2423</td>\n",
       "    </tr>\n",
       "    <tr>\n",
       "      <th>6</th>\n",
       "      <td>['https://supermarket.ru/catalog','https://supermarket.ru/catalog']</td>\n",
       "      <td>2327</td>\n",
       "    </tr>\n",
       "    <tr>\n",
       "      <th>7</th>\n",
       "      <td>['https://supermarket.ru/product','https://supermarket.ru/product','https://supermarket.ru/product']</td>\n",
       "      <td>1857</td>\n",
       "    </tr>\n",
       "    <tr>\n",
       "      <th>8</th>\n",
       "      <td>['https://supermarket.ru/main','https://supermarket.ru/search']</td>\n",
       "      <td>1709</td>\n",
       "    </tr>\n",
       "    <tr>\n",
       "      <th>9</th>\n",
       "      <td>['https://supermarket.ru/main','https://supermarket.ru/catalog','https://supermarket.ru/product','https://supermarket.ru/catalog','https://supermarket.ru/product']</td>\n",
       "      <td>1612</td>\n",
       "    </tr>\n",
       "  </tbody>\n",
       "</table>\n",
       "</div>"
      ],
      "text/plain": [
       "                                                                                                                                                              path_lim  \\\n",
       "0                                                                                                                                   ['https://supermarket.ru/product']   \n",
       "1                                                                                                                                   ['https://supermarket.ru/catalog']   \n",
       "2                                                                                                                                     ['https://supermarket.ru/promo']   \n",
       "3                                                                                                  ['https://supermarket.ru/product','https://supermarket.ru/product']   \n",
       "4                                                                                                                                      ['https://supermarket.ru/main']   \n",
       "5                                                                                                     ['https://supermarket.ru/main','https://supermarket.ru/catalog']   \n",
       "6                                                                                                  ['https://supermarket.ru/catalog','https://supermarket.ru/catalog']   \n",
       "7                                                                 ['https://supermarket.ru/product','https://supermarket.ru/product','https://supermarket.ru/product']   \n",
       "8                                                                                                      ['https://supermarket.ru/main','https://supermarket.ru/search']   \n",
       "9  ['https://supermarket.ru/main','https://supermarket.ru/catalog','https://supermarket.ru/product','https://supermarket.ru/catalog','https://supermarket.ru/product']   \n",
       "\n",
       "   users  \n",
       "0  28563  \n",
       "1  10298  \n",
       "2   5827  \n",
       "3   5547  \n",
       "4   3638  \n",
       "5   2423  \n",
       "6   2327  \n",
       "7   1857  \n",
       "8   1709  \n",
       "9   1612  "
      ]
     },
     "execution_count": 52,
     "metadata": {},
     "output_type": "execute_result"
    }
   ],
   "source": [
    "q = '''\n",
    "SELECT\n",
    "    path_lim,\n",
    "    count() as users\n",
    "FROM\n",
    "    (SELECT\n",
    "        ClientID,\n",
    "        arraySlice(groupArray(URL), 1, 5) as path_lim\n",
    "    FROM\n",
    "        (SELECT * FROM hits ORDER BY ClientID, EventTime)\n",
    "    GROUP BY ClientID)\n",
    "GROUP BY path_lim\n",
    "ORDER BY users desc\n",
    "LIMIT 10\n",
    "FORMAT TabSeparatedWithNames\n",
    "'''\n",
    "\n",
    "get_clickhouse_df(q)"
   ]
  },
  {
   "cell_type": "markdown",
   "metadata": {},
   "source": [
    "Пофильтруем повторяющиеся шаги в путях, чтобы было понятнее, в каких разделах были пользователи"
   ]
  },
  {
   "cell_type": "code",
   "execution_count": 53,
   "metadata": {
    "collapsed": false
   },
   "outputs": [
    {
     "data": {
      "text/html": [
       "<div>\n",
       "<style scoped>\n",
       "    .dataframe tbody tr th:only-of-type {\n",
       "        vertical-align: middle;\n",
       "    }\n",
       "\n",
       "    .dataframe tbody tr th {\n",
       "        vertical-align: top;\n",
       "    }\n",
       "\n",
       "    .dataframe thead th {\n",
       "        text-align: right;\n",
       "    }\n",
       "</style>\n",
       "<table border=\"1\" class=\"dataframe\">\n",
       "  <thead>\n",
       "    <tr style=\"text-align: right;\">\n",
       "      <th></th>\n",
       "      <th>path</th>\n",
       "      <th>users</th>\n",
       "      <th>indexes</th>\n",
       "      <th>path_filt</th>\n",
       "    </tr>\n",
       "  </thead>\n",
       "  <tbody>\n",
       "    <tr>\n",
       "      <th>0</th>\n",
       "      <td>['https://supermarket.ru/product']</td>\n",
       "      <td>28563</td>\n",
       "      <td>[1]</td>\n",
       "      <td>['https://supermarket.ru/product']</td>\n",
       "    </tr>\n",
       "    <tr>\n",
       "      <th>1</th>\n",
       "      <td>['https://supermarket.ru/catalog']</td>\n",
       "      <td>10298</td>\n",
       "      <td>[1]</td>\n",
       "      <td>['https://supermarket.ru/catalog']</td>\n",
       "    </tr>\n",
       "    <tr>\n",
       "      <th>2</th>\n",
       "      <td>['https://supermarket.ru/promo']</td>\n",
       "      <td>5827</td>\n",
       "      <td>[1]</td>\n",
       "      <td>['https://supermarket.ru/promo']</td>\n",
       "    </tr>\n",
       "    <tr>\n",
       "      <th>3</th>\n",
       "      <td>['https://supermarket.ru/product','https://supermarket.ru/product']</td>\n",
       "      <td>5547</td>\n",
       "      <td>[1,2]</td>\n",
       "      <td>['https://supermarket.ru/product']</td>\n",
       "    </tr>\n",
       "    <tr>\n",
       "      <th>4</th>\n",
       "      <td>['https://supermarket.ru/main']</td>\n",
       "      <td>3638</td>\n",
       "      <td>[1]</td>\n",
       "      <td>['https://supermarket.ru/main']</td>\n",
       "    </tr>\n",
       "    <tr>\n",
       "      <th>5</th>\n",
       "      <td>['https://supermarket.ru/main','https://supermarket.ru/catalog']</td>\n",
       "      <td>2423</td>\n",
       "      <td>[1,2]</td>\n",
       "      <td>['https://supermarket.ru/main','https://supermarket.ru/catalog']</td>\n",
       "    </tr>\n",
       "    <tr>\n",
       "      <th>6</th>\n",
       "      <td>['https://supermarket.ru/catalog','https://supermarket.ru/catalog']</td>\n",
       "      <td>2327</td>\n",
       "      <td>[1,2]</td>\n",
       "      <td>['https://supermarket.ru/catalog']</td>\n",
       "    </tr>\n",
       "    <tr>\n",
       "      <th>7</th>\n",
       "      <td>['https://supermarket.ru/product','https://supermarket.ru/product','https://supermarket.ru/product']</td>\n",
       "      <td>1857</td>\n",
       "      <td>[1,2,3]</td>\n",
       "      <td>['https://supermarket.ru/product']</td>\n",
       "    </tr>\n",
       "    <tr>\n",
       "      <th>8</th>\n",
       "      <td>['https://supermarket.ru/main','https://supermarket.ru/search']</td>\n",
       "      <td>1709</td>\n",
       "      <td>[1,2]</td>\n",
       "      <td>['https://supermarket.ru/main','https://supermarket.ru/search']</td>\n",
       "    </tr>\n",
       "    <tr>\n",
       "      <th>9</th>\n",
       "      <td>['https://supermarket.ru/promo_action_1']</td>\n",
       "      <td>1550</td>\n",
       "      <td>[1]</td>\n",
       "      <td>['https://supermarket.ru/promo_action_1']</td>\n",
       "    </tr>\n",
       "  </tbody>\n",
       "</table>\n",
       "</div>"
      ],
      "text/plain": [
       "                                                                                                   path  \\\n",
       "0                                                                    ['https://supermarket.ru/product']   \n",
       "1                                                                    ['https://supermarket.ru/catalog']   \n",
       "2                                                                      ['https://supermarket.ru/promo']   \n",
       "3                                   ['https://supermarket.ru/product','https://supermarket.ru/product']   \n",
       "4                                                                       ['https://supermarket.ru/main']   \n",
       "5                                      ['https://supermarket.ru/main','https://supermarket.ru/catalog']   \n",
       "6                                   ['https://supermarket.ru/catalog','https://supermarket.ru/catalog']   \n",
       "7  ['https://supermarket.ru/product','https://supermarket.ru/product','https://supermarket.ru/product']   \n",
       "8                                       ['https://supermarket.ru/main','https://supermarket.ru/search']   \n",
       "9                                                             ['https://supermarket.ru/promo_action_1']   \n",
       "\n",
       "   users  indexes  \\\n",
       "0  28563      [1]   \n",
       "1  10298      [1]   \n",
       "2   5827      [1]   \n",
       "3   5547    [1,2]   \n",
       "4   3638      [1]   \n",
       "5   2423    [1,2]   \n",
       "6   2327    [1,2]   \n",
       "7   1857  [1,2,3]   \n",
       "8   1709    [1,2]   \n",
       "9   1550      [1]   \n",
       "\n",
       "                                                          path_filt  \n",
       "0                                ['https://supermarket.ru/product']  \n",
       "1                                ['https://supermarket.ru/catalog']  \n",
       "2                                  ['https://supermarket.ru/promo']  \n",
       "3                                ['https://supermarket.ru/product']  \n",
       "4                                   ['https://supermarket.ru/main']  \n",
       "5  ['https://supermarket.ru/main','https://supermarket.ru/catalog']  \n",
       "6                                ['https://supermarket.ru/catalog']  \n",
       "7                                ['https://supermarket.ru/product']  \n",
       "8   ['https://supermarket.ru/main','https://supermarket.ru/search']  \n",
       "9                         ['https://supermarket.ru/promo_action_1']  "
      ]
     },
     "execution_count": 53,
     "metadata": {},
     "output_type": "execute_result"
    }
   ],
   "source": [
    "q = '''\n",
    "SELECT\n",
    "    path,\n",
    "    count() as users,\n",
    "    arrayEnumerate(path) as indexes,\n",
    "    arrayFilter(val, index -> (index = 1) or (path[index - 1] != path[index]),\n",
    "        path, indexes) as path_filt\n",
    "FROM\n",
    "    (SELECT\n",
    "        ClientID,\n",
    "        groupArray(URL) as path\n",
    "    FROM\n",
    "        (SELECT * FROM hits ORDER BY ClientID, EventTime)\n",
    "    GROUP BY ClientID)\n",
    "GROUP BY path\n",
    "ORDER BY users desc\n",
    "LIMIT 10\n",
    "FORMAT TabSeparatedWithNames\n",
    "'''\n",
    "\n",
    "get_clickhouse_df(q)"
   ]
  },
  {
   "cell_type": "code",
   "execution_count": 54,
   "metadata": {
    "collapsed": false
   },
   "outputs": [
    {
     "data": {
      "text/html": [
       "<div>\n",
       "<style scoped>\n",
       "    .dataframe tbody tr th:only-of-type {\n",
       "        vertical-align: middle;\n",
       "    }\n",
       "\n",
       "    .dataframe tbody tr th {\n",
       "        vertical-align: top;\n",
       "    }\n",
       "\n",
       "    .dataframe thead th {\n",
       "        text-align: right;\n",
       "    }\n",
       "</style>\n",
       "<table border=\"1\" class=\"dataframe\">\n",
       "  <thead>\n",
       "    <tr style=\"text-align: right;\">\n",
       "      <th></th>\n",
       "      <th>path_filt</th>\n",
       "      <th>users</th>\n",
       "    </tr>\n",
       "  </thead>\n",
       "  <tbody>\n",
       "    <tr>\n",
       "      <th>0</th>\n",
       "      <td>['https://supermarket.ru/product']</td>\n",
       "      <td>37675</td>\n",
       "    </tr>\n",
       "    <tr>\n",
       "      <th>1</th>\n",
       "      <td>['https://supermarket.ru/catalog']</td>\n",
       "      <td>14478</td>\n",
       "    </tr>\n",
       "    <tr>\n",
       "      <th>2</th>\n",
       "      <td>['https://supermarket.ru/promo']</td>\n",
       "      <td>6767</td>\n",
       "    </tr>\n",
       "    <tr>\n",
       "      <th>3</th>\n",
       "      <td>['https://supermarket.ru/main','https://supermarket.ru/catalog']</td>\n",
       "      <td>5637</td>\n",
       "    </tr>\n",
       "    <tr>\n",
       "      <th>4</th>\n",
       "      <td>['https://supermarket.ru/main']</td>\n",
       "      <td>4463</td>\n",
       "    </tr>\n",
       "    <tr>\n",
       "      <th>5</th>\n",
       "      <td>['https://supermarket.ru/main','https://supermarket.ru/catalog','https://supermarket.ru/product']</td>\n",
       "      <td>3819</td>\n",
       "    </tr>\n",
       "    <tr>\n",
       "      <th>6</th>\n",
       "      <td>['https://supermarket.ru/main','https://supermarket.ru/search']</td>\n",
       "      <td>3009</td>\n",
       "    </tr>\n",
       "    <tr>\n",
       "      <th>7</th>\n",
       "      <td>['https://supermarket.ru/catalog','https://supermarket.ru/product']</td>\n",
       "      <td>2898</td>\n",
       "    </tr>\n",
       "    <tr>\n",
       "      <th>8</th>\n",
       "      <td>['https://supermarket.ru/promo_action_1']</td>\n",
       "      <td>1829</td>\n",
       "    </tr>\n",
       "    <tr>\n",
       "      <th>9</th>\n",
       "      <td>['https://supermarket.ru/product','https://supermarket.ru/catalog']</td>\n",
       "      <td>1542</td>\n",
       "    </tr>\n",
       "  </tbody>\n",
       "</table>\n",
       "</div>"
      ],
      "text/plain": [
       "                                                                                           path_filt  \\\n",
       "0                                                                 ['https://supermarket.ru/product']   \n",
       "1                                                                 ['https://supermarket.ru/catalog']   \n",
       "2                                                                   ['https://supermarket.ru/promo']   \n",
       "3                                   ['https://supermarket.ru/main','https://supermarket.ru/catalog']   \n",
       "4                                                                    ['https://supermarket.ru/main']   \n",
       "5  ['https://supermarket.ru/main','https://supermarket.ru/catalog','https://supermarket.ru/product']   \n",
       "6                                    ['https://supermarket.ru/main','https://supermarket.ru/search']   \n",
       "7                                ['https://supermarket.ru/catalog','https://supermarket.ru/product']   \n",
       "8                                                          ['https://supermarket.ru/promo_action_1']   \n",
       "9                                ['https://supermarket.ru/product','https://supermarket.ru/catalog']   \n",
       "\n",
       "   users  \n",
       "0  37675  \n",
       "1  14478  \n",
       "2   6767  \n",
       "3   5637  \n",
       "4   4463  \n",
       "5   3819  \n",
       "6   3009  \n",
       "7   2898  \n",
       "8   1829  \n",
       "9   1542  "
      ]
     },
     "execution_count": 54,
     "metadata": {},
     "output_type": "execute_result"
    }
   ],
   "source": [
    "q = '''\n",
    "SELECT \n",
    "    path_filt,\n",
    "    sum(users) as users\n",
    "FROM\n",
    "    (SELECT\n",
    "        path,\n",
    "        count() as users,\n",
    "        arrayEnumerate(path) as indexes,\n",
    "        arrayFilter(val, index -> (index = 1) or (path[index - 1] != path[index]),\n",
    "            path, indexes) as path_filt\n",
    "    FROM\n",
    "        (SELECT\n",
    "            ClientID,\n",
    "            groupArray(URL) as path\n",
    "        FROM\n",
    "            (SELECT * FROM hits ORDER BY ClientID, EventTime)\n",
    "        GROUP BY ClientID)\n",
    "    GROUP BY path)\n",
    "GROUP BY path_filt\n",
    "ORDER BY users DESC\n",
    "LIMIT 10\n",
    "FORMAT TabSeparatedWithNames\n",
    "'''\n",
    "\n",
    "get_clickhouse_df(q)"
   ]
  },
  {
   "cell_type": "markdown",
   "metadata": {},
   "source": [
    "## Расчет funnels"
   ]
  },
  {
   "cell_type": "markdown",
   "metadata": {},
   "source": [
    "#### Подход в лоб"
   ]
  },
  {
   "cell_type": "code",
   "execution_count": 55,
   "metadata": {
    "collapsed": false
   },
   "outputs": [
    {
     "data": {
      "text/html": [
       "<div>\n",
       "<style scoped>\n",
       "    .dataframe tbody tr th:only-of-type {\n",
       "        vertical-align: middle;\n",
       "    }\n",
       "\n",
       "    .dataframe tbody tr th {\n",
       "        vertical-align: top;\n",
       "    }\n",
       "\n",
       "    .dataframe thead th {\n",
       "        text-align: right;\n",
       "    }\n",
       "</style>\n",
       "<table border=\"1\" class=\"dataframe\">\n",
       "  <thead>\n",
       "    <tr style=\"text-align: right;\">\n",
       "      <th></th>\n",
       "      <th>ClientID</th>\n",
       "      <th>step1_achieved</th>\n",
       "      <th>step2_achieved</th>\n",
       "      <th>step3_achieved</th>\n",
       "    </tr>\n",
       "  </thead>\n",
       "  <tbody>\n",
       "    <tr>\n",
       "      <th>0</th>\n",
       "      <td>11328496494700445631</td>\n",
       "      <td>0</td>\n",
       "      <td>0</td>\n",
       "      <td>0</td>\n",
       "    </tr>\n",
       "    <tr>\n",
       "      <th>1</th>\n",
       "      <td>4378518504153020253</td>\n",
       "      <td>0</td>\n",
       "      <td>0</td>\n",
       "      <td>0</td>\n",
       "    </tr>\n",
       "    <tr>\n",
       "      <th>2</th>\n",
       "      <td>3573365835552612154</td>\n",
       "      <td>0</td>\n",
       "      <td>0</td>\n",
       "      <td>0</td>\n",
       "    </tr>\n",
       "    <tr>\n",
       "      <th>3</th>\n",
       "      <td>6722497546488043716</td>\n",
       "      <td>1</td>\n",
       "      <td>1</td>\n",
       "      <td>1</td>\n",
       "    </tr>\n",
       "    <tr>\n",
       "      <th>4</th>\n",
       "      <td>11782234878805415335</td>\n",
       "      <td>1</td>\n",
       "      <td>0</td>\n",
       "      <td>0</td>\n",
       "    </tr>\n",
       "    <tr>\n",
       "      <th>5</th>\n",
       "      <td>12235634756572665986</td>\n",
       "      <td>0</td>\n",
       "      <td>0</td>\n",
       "      <td>0</td>\n",
       "    </tr>\n",
       "    <tr>\n",
       "      <th>6</th>\n",
       "      <td>6390005486945094701</td>\n",
       "      <td>1</td>\n",
       "      <td>1</td>\n",
       "      <td>0</td>\n",
       "    </tr>\n",
       "    <tr>\n",
       "      <th>7</th>\n",
       "      <td>1755001460118103603</td>\n",
       "      <td>0</td>\n",
       "      <td>0</td>\n",
       "      <td>0</td>\n",
       "    </tr>\n",
       "    <tr>\n",
       "      <th>8</th>\n",
       "      <td>4444492313274277176</td>\n",
       "      <td>0</td>\n",
       "      <td>0</td>\n",
       "      <td>0</td>\n",
       "    </tr>\n",
       "    <tr>\n",
       "      <th>9</th>\n",
       "      <td>1789936309455297152</td>\n",
       "      <td>1</td>\n",
       "      <td>1</td>\n",
       "      <td>1</td>\n",
       "    </tr>\n",
       "  </tbody>\n",
       "</table>\n",
       "</div>"
      ],
      "text/plain": [
       "               ClientID  step1_achieved  step2_achieved  step3_achieved\n",
       "0  11328496494700445631               0               0               0\n",
       "1   4378518504153020253               0               0               0\n",
       "2   3573365835552612154               0               0               0\n",
       "3   6722497546488043716               1               1               1\n",
       "4  11782234878805415335               1               0               0\n",
       "5  12235634756572665986               0               0               0\n",
       "6   6390005486945094701               1               1               0\n",
       "7   1755001460118103603               0               0               0\n",
       "8   4444492313274277176               0               0               0\n",
       "9   1789936309455297152               1               1               1"
      ]
     },
     "execution_count": 55,
     "metadata": {},
     "output_type": "execute_result"
    }
   ],
   "source": [
    "q = '''\n",
    "SELECT\n",
    "    ClientID,\n",
    "    max(URL = 'https://supermarket.ru/main') as step1_achieved,\n",
    "    sequenceMatch('(?1).*(?2)')(EventTime, URL = 'https://supermarket.ru/main', \n",
    "      URL = 'https://supermarket.ru/catalog') as step2_achieved,\n",
    "    sequenceMatch('(?1).*(?2).*(?3)')(EventTime, URL = 'https://supermarket.ru/main', \n",
    "      URL = 'https://supermarket.ru/catalog', URL = 'https://supermarket.ru/product') as step3_achieved\n",
    "FROM hits\n",
    "GROUP BY ClientID\n",
    "LIMIT 10\n",
    "FORMAT TabSeparatedWithNames\n",
    "'''\n",
    "\n",
    "get_clickhouse_df(q)"
   ]
  },
  {
   "cell_type": "code",
   "execution_count": 56,
   "metadata": {
    "collapsed": true
   },
   "outputs": [],
   "source": [
    "q = '''\n",
    "SELECT\n",
    "    sum(step1_achieved) as step1,\n",
    "    sum(step2_achieved) as step2,\n",
    "    sum(step3_achieved) as step3\n",
    "    --round(100.*step2/step1, 2) as step2_to_1,\n",
    "    --round(100.*step3/step1, 2) as step3_to_1\n",
    "FROM\n",
    "    (SELECT\n",
    "        ClientID,\n",
    "        max(URL = 'https://supermarket.ru/main') as step1_achieved,\n",
    "        sequenceMatch('(?1).*(?2)')(EventTime, URL = 'https://supermarket.ru/main', \n",
    "          URL = 'https://supermarket.ru/catalog') as step2_achieved,\n",
    "        sequenceMatch('(?1).*(?2).*(?3)')(EventTime, URL = 'https://supermarket.ru/main', \n",
    "          URL = 'https://supermarket.ru/catalog', URL = 'https://supermarket.ru/product') as step3_achieved\n",
    "    FROM hits\n",
    "    GROUP BY ClientID)\n",
    "FORMAT TabSeparatedWithNames\n",
    "'''\n",
    "\n",
    "fdf = get_clickhouse_df(q)"
   ]
  },
  {
   "cell_type": "code",
   "execution_count": 57,
   "metadata": {
    "collapsed": false
   },
   "outputs": [
    {
     "data": {
      "text/html": [
       "<div>\n",
       "<style scoped>\n",
       "    .dataframe tbody tr th:only-of-type {\n",
       "        vertical-align: middle;\n",
       "    }\n",
       "\n",
       "    .dataframe tbody tr th {\n",
       "        vertical-align: top;\n",
       "    }\n",
       "\n",
       "    .dataframe thead th {\n",
       "        text-align: right;\n",
       "    }\n",
       "</style>\n",
       "<table border=\"1\" class=\"dataframe\">\n",
       "  <thead>\n",
       "    <tr style=\"text-align: right;\">\n",
       "      <th></th>\n",
       "      <th>step1</th>\n",
       "      <th>step2</th>\n",
       "      <th>step3</th>\n",
       "    </tr>\n",
       "  </thead>\n",
       "  <tbody>\n",
       "    <tr>\n",
       "      <th>0</th>\n",
       "      <td>53856</td>\n",
       "      <td>33919</td>\n",
       "      <td>22832</td>\n",
       "    </tr>\n",
       "  </tbody>\n",
       "</table>\n",
       "</div>"
      ],
      "text/plain": [
       "   step1  step2  step3\n",
       "0  53856  33919  22832"
      ]
     },
     "execution_count": 57,
     "metadata": {},
     "output_type": "execute_result"
    }
   ],
   "source": [
    "fdf"
   ]
  },
  {
   "cell_type": "markdown",
   "metadata": {},
   "source": [
    "Визуализируем"
   ]
  },
  {
   "cell_type": "code",
   "execution_count": 58,
   "metadata": {
    "collapsed": false
   },
   "outputs": [
    {
     "data": {
      "text/html": [
       "<script>requirejs.config({paths: { 'plotly': ['https://cdn.plot.ly/plotly-latest.min']},});if(!window.Plotly) {{require(['plotly'],function(plotly) {window.Plotly=plotly;});}}</script>"
      ],
      "text/vnd.plotly.v1+html": [
       "<script>requirejs.config({paths: { 'plotly': ['https://cdn.plot.ly/plotly-latest.min']},});if(!window.Plotly) {{require(['plotly'],function(plotly) {window.Plotly=plotly;});}}</script>"
      ]
     },
     "metadata": {},
     "output_type": "display_data"
    }
   ],
   "source": [
    "from plotly.offline import init_notebook_mode, iplot\n",
    "import plotly\n",
    "import plotly.graph_objs as go\n",
    "\n",
    "init_notebook_mode(connected=True)"
   ]
  },
  {
   "cell_type": "code",
   "execution_count": 71,
   "metadata": {
    "collapsed": true
   },
   "outputs": [],
   "source": [
    "colors = colors = ['#d54936', '#faca34', '#437cba', '#8bc34a', '#795548', '#309688', '#000000', '#40bcd4', '#9e9e9e', '#3ca9f4']\n",
    "phases = ['Main', 'Catalog', 'Product']\n",
    "values = fdf.iloc[0].values"
   ]
  },
  {
   "cell_type": "code",
   "execution_count": 72,
   "metadata": {
    "collapsed": true
   },
   "outputs": [],
   "source": [
    "def plot_funnel(phases, values):\n",
    "    n_phase = len(phases)\n",
    "    plot_width = 500.\n",
    "\n",
    "    # height of a section and difference between sections \n",
    "    section_h = 100\n",
    "    section_d = 10\n",
    "\n",
    "    # multiplication factor to calculate the width of other sections\n",
    "    unit_width = plot_width / max(values)\n",
    "\n",
    "    # width of each funnel section relative to the plot width\n",
    "    phase_w = [int(value * unit_width) for value in values]\n",
    "    print phase_w\n",
    "\n",
    "    # plot height based on the number of sections and the gap in between them\n",
    "    height = section_h * n_phase + section_d * (n_phase - 1)\n",
    "    \n",
    "    # list containing all the plot shapes\n",
    "    shapes = []\n",
    "\n",
    "    # list containing the Y-axis location for each section's name and value text\n",
    "    label_y = []\n",
    "\n",
    "    for i in range(n_phase):\n",
    "            if (i == n_phase-1):\n",
    "                    points = [phase_w[i] / 2, height, phase_w[i] / 2, height - section_h]\n",
    "            else:\n",
    "                    points = [phase_w[i] / 2, height, phase_w[i+1] / 2, height - section_h]\n",
    "\n",
    "            path = 'M {0} {1} L {2} {3} L -{2} {3} L -{0} {1} Z'.format(*points)\n",
    "\n",
    "            shape = {\n",
    "                    'type': 'path',\n",
    "                    'path': path,\n",
    "                    'fillcolor': colors[i],\n",
    "                    'line': {\n",
    "                        'width': 1,\n",
    "                        'color': colors[i]\n",
    "                    }\n",
    "            }\n",
    "            shapes.append(shape)\n",
    "\n",
    "            # Y-axis location for this section's details (text)\n",
    "            label_y.append(height - (section_h / 2))\n",
    "\n",
    "            height = height - (section_h + section_d)\n",
    "\n",
    "    # For phase names\n",
    "    label_trace = go.Scatter(\n",
    "        x=[-350]*n_phase,\n",
    "        y=label_y,\n",
    "        mode='text',\n",
    "        text=phases,\n",
    "        textfont=dict(\n",
    "            color='rgb(40,40,40)',\n",
    "            size=15\n",
    "        )\n",
    "    )\n",
    "\n",
    "    # For phase values\n",
    "    value_trace = go.Scatter(\n",
    "        x=[350]*n_phase,\n",
    "        y=label_y,\n",
    "        mode='text',\n",
    "        text=values,\n",
    "        textfont=dict(\n",
    "            color='rgb(40,40,40)',\n",
    "            size=15\n",
    "        )\n",
    "    )\n",
    "\n",
    "    data = [label_trace, value_trace]\n",
    "\n",
    "    layout = go.Layout(\n",
    "        title=\"<b>Funnel Chart</b>\",\n",
    "        titlefont=dict(\n",
    "            size=20,\n",
    "            color='rgb(0,0,0)'\n",
    "        ),\n",
    "        shapes=shapes,\n",
    "        height=560,\n",
    "        width=800,\n",
    "        showlegend=False,\n",
    "        paper_bgcolor='rgba(255,255,255,1)',\n",
    "        plot_bgcolor='rgba(255,255,255,1)',\n",
    "        xaxis=dict(\n",
    "            showticklabels=False,\n",
    "            zeroline=False,\n",
    "            showgrid=False,\n",
    "            range=[-450, 450]\n",
    "        ),\n",
    "        yaxis=dict(\n",
    "            showticklabels=False,\n",
    "            zeroline=False,\n",
    "            showgrid=False\n",
    "        )\n",
    "    )\n",
    "\n",
    "    fig = go.Figure(data=data, layout=layout)\n",
    "    iplot(fig, show_link=False)"
   ]
  },
  {
   "cell_type": "code",
   "execution_count": 73,
   "metadata": {
    "collapsed": false
   },
   "outputs": [
    {
     "name": "stdout",
     "output_type": "stream",
     "text": [
      "[500, 314, 211, 11, 3]\n"
     ]
    },
    {
     "data": {
      "application/vnd.plotly.v1+json": {
       "data": [
        {
         "mode": "text",
         "text": [
          "Main",
          "Catalog",
          "Product"
         ],
         "textfont": {
          "color": "rgb(40,40,40)",
          "size": 15
         },
         "type": "scatter",
         "x": [
          -350,
          -350,
          -350
         ],
         "y": [
          270,
          160,
          50
         ]
        },
        {
         "mode": "text",
         "text": [
          53856,
          33919,
          22832,
          1213,
          351
         ],
         "textfont": {
          "color": "rgb(40,40,40)",
          "size": 15
         },
         "type": "scatter",
         "x": [
          350,
          350,
          350
         ],
         "y": [
          270,
          160,
          50
         ]
        }
       ],
       "layout": {
        "height": 560,
        "paper_bgcolor": "rgba(255,255,255,1)",
        "plot_bgcolor": "rgba(255,255,255,1)",
        "shapes": [
         {
          "fillcolor": "#d54936",
          "line": {
           "color": "#d54936",
           "width": 1
          },
          "path": "M 250 320 L 157 220 L -157 220 L -250 320 Z",
          "type": "path"
         },
         {
          "fillcolor": "#faca34",
          "line": {
           "color": "#faca34",
           "width": 1
          },
          "path": "M 157 210 L 105 110 L -105 110 L -157 210 Z",
          "type": "path"
         },
         {
          "fillcolor": "#437cba",
          "line": {
           "color": "#437cba",
           "width": 1
          },
          "path": "M 105 100 L 105 0 L -105 0 L -105 100 Z",
          "type": "path"
         }
        ],
        "showlegend": false,
        "title": "<b>Funnel Chart</b>",
        "titlefont": {
         "color": "rgb(0,0,0)",
         "size": 20
        },
        "width": 800,
        "xaxis": {
         "range": [
          -450,
          450
         ],
         "showgrid": false,
         "showticklabels": false,
         "zeroline": false
        },
        "yaxis": {
         "showgrid": false,
         "showticklabels": false,
         "zeroline": false
        }
       }
      },
      "text/html": [
       "<div id=\"1fa2c125-c64a-4608-91ec-d4190ffcbbbd\" style=\"height: 560px; width: 800px;\" class=\"plotly-graph-div\"></div><script type=\"text/javascript\">require([\"plotly\"], function(Plotly) { window.PLOTLYENV=window.PLOTLYENV || {};window.PLOTLYENV.BASE_URL=\"https://plot.ly\";Plotly.newPlot(\"1fa2c125-c64a-4608-91ec-d4190ffcbbbd\", [{\"textfont\": {\"color\": \"rgb(40,40,40)\", \"size\": 15}, \"text\": [\"Main\", \"Catalog\", \"Product\"], \"mode\": \"text\", \"y\": [270, 160, 50], \"x\": [-350, -350, -350], \"type\": \"scatter\"}, {\"textfont\": {\"color\": \"rgb(40,40,40)\", \"size\": 15}, \"text\": [53856, 33919, 22832, 1213, 351], \"mode\": \"text\", \"y\": [270, 160, 50], \"x\": [350, 350, 350], \"type\": \"scatter\"}], {\"showlegend\": false, \"yaxis\": {\"zeroline\": false, \"showticklabels\": false, \"showgrid\": false}, \"paper_bgcolor\": \"rgba(255,255,255,1)\", \"plot_bgcolor\": \"rgba(255,255,255,1)\", \"title\": \"<b>Funnel Chart</b>\", \"height\": 560, \"shapes\": [{\"path\": \"M 250 320 L 157 220 L -157 220 L -250 320 Z\", \"line\": {\"color\": \"#d54936\", \"width\": 1}, \"type\": \"path\", \"fillcolor\": \"#d54936\"}, {\"path\": \"M 157 210 L 105 110 L -105 110 L -157 210 Z\", \"line\": {\"color\": \"#faca34\", \"width\": 1}, \"type\": \"path\", \"fillcolor\": \"#faca34\"}, {\"path\": \"M 105 100 L 105 0 L -105 0 L -105 100 Z\", \"line\": {\"color\": \"#437cba\", \"width\": 1}, \"type\": \"path\", \"fillcolor\": \"#437cba\"}], \"width\": 800, \"titlefont\": {\"color\": \"rgb(0,0,0)\", \"size\": 20}, \"xaxis\": {\"zeroline\": false, \"range\": [-450, 450], \"showticklabels\": false, \"showgrid\": false}}, {\"linkText\": \"Export to plot.ly\", \"showLink\": false})});</script>"
      ],
      "text/vnd.plotly.v1+html": [
       "<div id=\"1fa2c125-c64a-4608-91ec-d4190ffcbbbd\" style=\"height: 560px; width: 800px;\" class=\"plotly-graph-div\"></div><script type=\"text/javascript\">require([\"plotly\"], function(Plotly) { window.PLOTLYENV=window.PLOTLYENV || {};window.PLOTLYENV.BASE_URL=\"https://plot.ly\";Plotly.newPlot(\"1fa2c125-c64a-4608-91ec-d4190ffcbbbd\", [{\"textfont\": {\"color\": \"rgb(40,40,40)\", \"size\": 15}, \"text\": [\"Main\", \"Catalog\", \"Product\"], \"mode\": \"text\", \"y\": [270, 160, 50], \"x\": [-350, -350, -350], \"type\": \"scatter\"}, {\"textfont\": {\"color\": \"rgb(40,40,40)\", \"size\": 15}, \"text\": [53856, 33919, 22832, 1213, 351], \"mode\": \"text\", \"y\": [270, 160, 50], \"x\": [350, 350, 350], \"type\": \"scatter\"}], {\"showlegend\": false, \"yaxis\": {\"zeroline\": false, \"showticklabels\": false, \"showgrid\": false}, \"paper_bgcolor\": \"rgba(255,255,255,1)\", \"plot_bgcolor\": \"rgba(255,255,255,1)\", \"title\": \"<b>Funnel Chart</b>\", \"height\": 560, \"shapes\": [{\"path\": \"M 250 320 L 157 220 L -157 220 L -250 320 Z\", \"line\": {\"color\": \"#d54936\", \"width\": 1}, \"type\": \"path\", \"fillcolor\": \"#d54936\"}, {\"path\": \"M 157 210 L 105 110 L -105 110 L -157 210 Z\", \"line\": {\"color\": \"#faca34\", \"width\": 1}, \"type\": \"path\", \"fillcolor\": \"#faca34\"}, {\"path\": \"M 105 100 L 105 0 L -105 0 L -105 100 Z\", \"line\": {\"color\": \"#437cba\", \"width\": 1}, \"type\": \"path\", \"fillcolor\": \"#437cba\"}], \"width\": 800, \"titlefont\": {\"color\": \"rgb(0,0,0)\", \"size\": 20}, \"xaxis\": {\"zeroline\": false, \"range\": [-450, 450], \"showticklabels\": false, \"showgrid\": false}}, {\"linkText\": \"Export to plot.ly\", \"showLink\": false})});</script>"
      ]
     },
     "metadata": {},
     "output_type": "display_data"
    }
   ],
   "source": [
    "plot_funnel(phases, values)"
   ]
  },
  {
   "cell_type": "markdown",
   "metadata": {},
   "source": [
    "### Добавим еще один шаг"
   ]
  },
  {
   "cell_type": "code",
   "execution_count": 74,
   "metadata": {
    "collapsed": false
   },
   "outputs": [
    {
     "ename": "ValueError",
     "evalue": "Code: 160, e.displayText() = DB::Exception: Pattern application proves too difficult, exceeding max iterations (1000000), e.what() = DB::Exception\n",
     "output_type": "error",
     "traceback": [
      "\u001b[0;31m---------------------------------------------------------------------------\u001b[0m",
      "\u001b[0;31mValueError\u001b[0m                                Traceback (most recent call last)",
      "\u001b[0;32m<ipython-input-74-a0bb0b5aee10>\u001b[0m in \u001b[0;36m<module>\u001b[0;34m()\u001b[0m\n\u001b[0;32m----> 1\u001b[0;31m \u001b[0mget_ipython\u001b[0m\u001b[0;34m(\u001b[0m\u001b[0;34m)\u001b[0m\u001b[0;34m.\u001b[0m\u001b[0mrun_cell_magic\u001b[0m\u001b[0;34m(\u001b[0m\u001b[0;34mu'time'\u001b[0m\u001b[0;34m,\u001b[0m \u001b[0;34mu''\u001b[0m\u001b[0;34m,\u001b[0m \u001b[0;34mu\"q = '''\\nSELECT\\n    sum(step1_achieved) as step1,\\n    sum(step2_achieved) as step2,\\n    sum(step3_achieved) as step3,\\n    sum(step4_achieved) as step4,\\n    sum(step5_achieved) as step5\\nFROM\\n    (SELECT\\n        ClientID,\\n        max(URL = 'https://supermarket.ru/main') as step1_achieved,\\n        sequenceMatch('(?1).*(?2)')(EventTime, URL = 'https://supermarket.ru/main', \\n          URL = 'https://supermarket.ru/catalog') as step2_achieved,\\n        sequenceMatch('(?1).*(?2).*(?3)')(EventTime, URL = 'https://supermarket.ru/main', \\n          URL = 'https://supermarket.ru/catalog', URL = 'https://supermarket.ru/product') as step3_achieved,\\n        sequenceMatch('(?1).*(?2).*(?3).*(?4)')(EventTime, URL = 'https://supermarket.ru/main', \\n          URL = 'https://supermarket.ru/catalog', URL = 'https://supermarket.ru/product', \\n          URL = 'https://supermarket.ru/basket') as step4_achieved,\\n        sequenceMatch('(?1).*(?2).*(?3).*(?4).*(?5)')(EventTime, URL = 'https://supermarket.ru/main', \\n          URL = 'https://supermarket.ru/catalog', URL = 'https://supermarket.ru/product', \\n          URL = 'https://supermarket.ru/basket', URL = 'https://supermarket.ru/finish_order') as step5_achieved\\n    FROM hits\\n    GROUP BY ClientID)\\nFORMAT TabSeparatedWithNames\\n'''\\n\\nfdf = get_clickhouse_df(q)\"\u001b[0m\u001b[0;34m)\u001b[0m\u001b[0;34m\u001b[0m\u001b[0m\n\u001b[0m",
      "\u001b[0;32m/Users/miptgirl/anaconda/lib/python2.7/site-packages/IPython/core/interactiveshell.pyc\u001b[0m in \u001b[0;36mrun_cell_magic\u001b[0;34m(self, magic_name, line, cell)\u001b[0m\n\u001b[1;32m   2113\u001b[0m             \u001b[0mmagic_arg_s\u001b[0m \u001b[0;34m=\u001b[0m \u001b[0mself\u001b[0m\u001b[0;34m.\u001b[0m\u001b[0mvar_expand\u001b[0m\u001b[0;34m(\u001b[0m\u001b[0mline\u001b[0m\u001b[0;34m,\u001b[0m \u001b[0mstack_depth\u001b[0m\u001b[0;34m)\u001b[0m\u001b[0;34m\u001b[0m\u001b[0m\n\u001b[1;32m   2114\u001b[0m             \u001b[0;32mwith\u001b[0m \u001b[0mself\u001b[0m\u001b[0;34m.\u001b[0m\u001b[0mbuiltin_trap\u001b[0m\u001b[0;34m:\u001b[0m\u001b[0;34m\u001b[0m\u001b[0m\n\u001b[0;32m-> 2115\u001b[0;31m                 \u001b[0mresult\u001b[0m \u001b[0;34m=\u001b[0m \u001b[0mfn\u001b[0m\u001b[0;34m(\u001b[0m\u001b[0mmagic_arg_s\u001b[0m\u001b[0;34m,\u001b[0m \u001b[0mcell\u001b[0m\u001b[0;34m)\u001b[0m\u001b[0;34m\u001b[0m\u001b[0m\n\u001b[0m\u001b[1;32m   2116\u001b[0m             \u001b[0;32mreturn\u001b[0m \u001b[0mresult\u001b[0m\u001b[0;34m\u001b[0m\u001b[0m\n\u001b[1;32m   2117\u001b[0m \u001b[0;34m\u001b[0m\u001b[0m\n",
      "\u001b[0;32m<decorator-gen-59>\u001b[0m in \u001b[0;36mtime\u001b[0;34m(self, line, cell, local_ns)\u001b[0m\n",
      "\u001b[0;32m/Users/miptgirl/anaconda/lib/python2.7/site-packages/IPython/core/magic.pyc\u001b[0m in \u001b[0;36m<lambda>\u001b[0;34m(f, *a, **k)\u001b[0m\n\u001b[1;32m    186\u001b[0m     \u001b[0;31m# but it's overkill for just that one bit of state.\u001b[0m\u001b[0;34m\u001b[0m\u001b[0;34m\u001b[0m\u001b[0m\n\u001b[1;32m    187\u001b[0m     \u001b[0;32mdef\u001b[0m \u001b[0mmagic_deco\u001b[0m\u001b[0;34m(\u001b[0m\u001b[0marg\u001b[0m\u001b[0;34m)\u001b[0m\u001b[0;34m:\u001b[0m\u001b[0;34m\u001b[0m\u001b[0m\n\u001b[0;32m--> 188\u001b[0;31m         \u001b[0mcall\u001b[0m \u001b[0;34m=\u001b[0m \u001b[0;32mlambda\u001b[0m \u001b[0mf\u001b[0m\u001b[0;34m,\u001b[0m \u001b[0;34m*\u001b[0m\u001b[0ma\u001b[0m\u001b[0;34m,\u001b[0m \u001b[0;34m**\u001b[0m\u001b[0mk\u001b[0m\u001b[0;34m:\u001b[0m \u001b[0mf\u001b[0m\u001b[0;34m(\u001b[0m\u001b[0;34m*\u001b[0m\u001b[0ma\u001b[0m\u001b[0;34m,\u001b[0m \u001b[0;34m**\u001b[0m\u001b[0mk\u001b[0m\u001b[0;34m)\u001b[0m\u001b[0;34m\u001b[0m\u001b[0m\n\u001b[0m\u001b[1;32m    189\u001b[0m \u001b[0;34m\u001b[0m\u001b[0m\n\u001b[1;32m    190\u001b[0m         \u001b[0;32mif\u001b[0m \u001b[0mcallable\u001b[0m\u001b[0;34m(\u001b[0m\u001b[0marg\u001b[0m\u001b[0;34m)\u001b[0m\u001b[0;34m:\u001b[0m\u001b[0;34m\u001b[0m\u001b[0m\n",
      "\u001b[0;32m/Users/miptgirl/anaconda/lib/python2.7/site-packages/IPython/core/magics/execution.pyc\u001b[0m in \u001b[0;36mtime\u001b[0;34m(self, line, cell, local_ns)\u001b[0m\n\u001b[1;32m   1178\u001b[0m         \u001b[0;32melse\u001b[0m\u001b[0;34m:\u001b[0m\u001b[0;34m\u001b[0m\u001b[0m\n\u001b[1;32m   1179\u001b[0m             \u001b[0mst\u001b[0m \u001b[0;34m=\u001b[0m \u001b[0mclock2\u001b[0m\u001b[0;34m(\u001b[0m\u001b[0;34m)\u001b[0m\u001b[0;34m\u001b[0m\u001b[0m\n\u001b[0;32m-> 1180\u001b[0;31m             \u001b[0;32mexec\u001b[0m\u001b[0;34m(\u001b[0m\u001b[0mcode\u001b[0m\u001b[0;34m,\u001b[0m \u001b[0mglob\u001b[0m\u001b[0;34m,\u001b[0m \u001b[0mlocal_ns\u001b[0m\u001b[0;34m)\u001b[0m\u001b[0;34m\u001b[0m\u001b[0m\n\u001b[0m\u001b[1;32m   1181\u001b[0m             \u001b[0mend\u001b[0m \u001b[0;34m=\u001b[0m \u001b[0mclock2\u001b[0m\u001b[0;34m(\u001b[0m\u001b[0;34m)\u001b[0m\u001b[0;34m\u001b[0m\u001b[0m\n\u001b[1;32m   1182\u001b[0m             \u001b[0mout\u001b[0m \u001b[0;34m=\u001b[0m \u001b[0mNone\u001b[0m\u001b[0;34m\u001b[0m\u001b[0m\n",
      "\u001b[0;32m<timed exec>\u001b[0m in \u001b[0;36m<module>\u001b[0;34m()\u001b[0m\n",
      "\u001b[0;32m<ipython-input-46-ab4c99afa63e>\u001b[0m in \u001b[0;36mget_clickhouse_df\u001b[0;34m(query, host, connection_timeout)\u001b[0m\n\u001b[1;32m     10\u001b[0m \u001b[0;34m\u001b[0m\u001b[0m\n\u001b[1;32m     11\u001b[0m \u001b[0;32mdef\u001b[0m \u001b[0mget_clickhouse_df\u001b[0m\u001b[0;34m(\u001b[0m\u001b[0mquery\u001b[0m\u001b[0;34m,\u001b[0m \u001b[0mhost\u001b[0m \u001b[0;34m=\u001b[0m \u001b[0mCH_HOST\u001b[0m\u001b[0;34m,\u001b[0m \u001b[0mconnection_timeout\u001b[0m \u001b[0;34m=\u001b[0m \u001b[0;36m1500\u001b[0m\u001b[0;34m)\u001b[0m\u001b[0;34m:\u001b[0m\u001b[0;34m\u001b[0m\u001b[0m\n\u001b[0;32m---> 12\u001b[0;31m     \u001b[0mdata\u001b[0m \u001b[0;34m=\u001b[0m \u001b[0mget_clickhouse_data\u001b[0m\u001b[0;34m(\u001b[0m\u001b[0mquery\u001b[0m\u001b[0;34m,\u001b[0m \u001b[0mhost\u001b[0m\u001b[0;34m,\u001b[0m \u001b[0mconnection_timeout\u001b[0m\u001b[0;34m)\u001b[0m\u001b[0;34m\u001b[0m\u001b[0m\n\u001b[0m\u001b[1;32m     13\u001b[0m     \u001b[0mdf\u001b[0m \u001b[0;34m=\u001b[0m \u001b[0mpd\u001b[0m\u001b[0;34m.\u001b[0m\u001b[0mread_csv\u001b[0m\u001b[0;34m(\u001b[0m\u001b[0mStringIO\u001b[0m\u001b[0;34m.\u001b[0m\u001b[0mStringIO\u001b[0m\u001b[0;34m(\u001b[0m\u001b[0mdata\u001b[0m\u001b[0;34m)\u001b[0m\u001b[0;34m,\u001b[0m \u001b[0msep\u001b[0m \u001b[0;34m=\u001b[0m \u001b[0;34m'\\t'\u001b[0m\u001b[0;34m)\u001b[0m\u001b[0;34m\u001b[0m\u001b[0m\n\u001b[1;32m     14\u001b[0m     \u001b[0;32mreturn\u001b[0m \u001b[0mdf\u001b[0m\u001b[0;34m\u001b[0m\u001b[0m\n",
      "\u001b[0;32m<ipython-input-46-ab4c99afa63e>\u001b[0m in \u001b[0;36mget_clickhouse_data\u001b[0;34m(query, host, connection_timeout)\u001b[0m\n\u001b[1;32m      7\u001b[0m         \u001b[0;32mreturn\u001b[0m \u001b[0mr\u001b[0m\u001b[0;34m.\u001b[0m\u001b[0mtext\u001b[0m\u001b[0;34m\u001b[0m\u001b[0m\n\u001b[1;32m      8\u001b[0m     \u001b[0;32melse\u001b[0m\u001b[0;34m:\u001b[0m\u001b[0;34m\u001b[0m\u001b[0m\n\u001b[0;32m----> 9\u001b[0;31m         \u001b[0;32mraise\u001b[0m \u001b[0mValueError\u001b[0m\u001b[0;34m,\u001b[0m \u001b[0mr\u001b[0m\u001b[0;34m.\u001b[0m\u001b[0mtext\u001b[0m\u001b[0;34m\u001b[0m\u001b[0m\n\u001b[0m\u001b[1;32m     10\u001b[0m \u001b[0;34m\u001b[0m\u001b[0m\n\u001b[1;32m     11\u001b[0m \u001b[0;32mdef\u001b[0m \u001b[0mget_clickhouse_df\u001b[0m\u001b[0;34m(\u001b[0m\u001b[0mquery\u001b[0m\u001b[0;34m,\u001b[0m \u001b[0mhost\u001b[0m \u001b[0;34m=\u001b[0m \u001b[0mCH_HOST\u001b[0m\u001b[0;34m,\u001b[0m \u001b[0mconnection_timeout\u001b[0m \u001b[0;34m=\u001b[0m \u001b[0;36m1500\u001b[0m\u001b[0;34m)\u001b[0m\u001b[0;34m:\u001b[0m\u001b[0;34m\u001b[0m\u001b[0m\n",
      "\u001b[0;31mValueError\u001b[0m: Code: 160, e.displayText() = DB::Exception: Pattern application proves too difficult, exceeding max iterations (1000000), e.what() = DB::Exception\n"
     ]
    }
   ],
   "source": [
    "%%time\n",
    "q = '''\n",
    "SELECT\n",
    "    sum(step1_achieved) as step1,\n",
    "    sum(step2_achieved) as step2,\n",
    "    sum(step3_achieved) as step3,\n",
    "    sum(step4_achieved) as step4,\n",
    "    sum(step5_achieved) as step5\n",
    "FROM\n",
    "    (SELECT\n",
    "        ClientID,\n",
    "        max(URL = 'https://supermarket.ru/main') as step1_achieved,\n",
    "        sequenceMatch('(?1).*(?2)')(EventTime, URL = 'https://supermarket.ru/main', \n",
    "          URL = 'https://supermarket.ru/catalog') as step2_achieved,\n",
    "        sequenceMatch('(?1).*(?2).*(?3)')(EventTime, URL = 'https://supermarket.ru/main', \n",
    "          URL = 'https://supermarket.ru/catalog', URL = 'https://supermarket.ru/product') as step3_achieved,\n",
    "        sequenceMatch('(?1).*(?2).*(?3).*(?4)')(EventTime, URL = 'https://supermarket.ru/main', \n",
    "          URL = 'https://supermarket.ru/catalog', URL = 'https://supermarket.ru/product', \n",
    "          URL = 'https://supermarket.ru/basket') as step4_achieved,\n",
    "        sequenceMatch('(?1).*(?2).*(?3).*(?4).*(?5)')(EventTime, URL = 'https://supermarket.ru/main', \n",
    "          URL = 'https://supermarket.ru/catalog', URL = 'https://supermarket.ru/product', \n",
    "          URL = 'https://supermarket.ru/basket', URL = 'https://supermarket.ru/finish_order') as step5_achieved\n",
    "    FROM hits\n",
    "    GROUP BY ClientID)\n",
    "FORMAT TabSeparatedWithNames\n",
    "'''\n",
    "\n",
    "fdf = get_clickhouse_df(q)"
   ]
  },
  {
   "cell_type": "markdown",
   "metadata": {},
   "source": [
    "### Пойдем другим путем"
   ]
  },
  {
   "cell_type": "code",
   "execution_count": 64,
   "metadata": {
    "collapsed": false
   },
   "outputs": [
    {
     "data": {
      "text/html": [
       "<div>\n",
       "<style scoped>\n",
       "    .dataframe tbody tr th:only-of-type {\n",
       "        vertical-align: middle;\n",
       "    }\n",
       "\n",
       "    .dataframe tbody tr th {\n",
       "        vertical-align: top;\n",
       "    }\n",
       "\n",
       "    .dataframe thead th {\n",
       "        text-align: right;\n",
       "    }\n",
       "</style>\n",
       "<table border=\"1\" class=\"dataframe\">\n",
       "  <thead>\n",
       "    <tr style=\"text-align: right;\">\n",
       "      <th></th>\n",
       "      <th>ClientID</th>\n",
       "      <th>times</th>\n",
       "      <th>urls</th>\n",
       "      <th>step1_time</th>\n",
       "    </tr>\n",
       "  </thead>\n",
       "  <tbody>\n",
       "    <tr>\n",
       "      <th>0</th>\n",
       "      <td>11328496494700445631</td>\n",
       "      <td>[1530616006]</td>\n",
       "      <td>['https://supermarket.ru/catalog']</td>\n",
       "      <td>0</td>\n",
       "    </tr>\n",
       "    <tr>\n",
       "      <th>1</th>\n",
       "      <td>4378518504153020253</td>\n",
       "      <td>[1533000503]</td>\n",
       "      <td>['https://supermarket.ru/product']</td>\n",
       "      <td>0</td>\n",
       "    </tr>\n",
       "    <tr>\n",
       "      <th>2</th>\n",
       "      <td>3573365835552612154</td>\n",
       "      <td>[1530630727]</td>\n",
       "      <td>['https://supermarket.ru/product']</td>\n",
       "      <td>0</td>\n",
       "    </tr>\n",
       "    <tr>\n",
       "      <th>3</th>\n",
       "      <td>6722497546488043716</td>\n",
       "      <td>[1531310304,1531310317,1531310347,1531310454,1531311435,1531311438,1531312425,1531312725,1531312779,1531312785,1531316138,1532538815,1532538889,1532538902,1532538984]</td>\n",
       "      <td>['https://supermarket.ru/main','https://supermarket.ru/search','https://supermarket.ru/product','https://supermarket.ru/search','https://supermarket.ru/product','https://supermarket.ru/product','https://supermarket.ru/search','https://supermarket.ru/product','https://supermarket.ru/user_profile','https://supermarket.ru/product','https://supermarket.ru/product','https://supermarket.ru/main','https://supermarket.ru/catalog','https://supermarket.ru/catalog','https://supermarket.ru/product']</td>\n",
       "      <td>1531310304</td>\n",
       "    </tr>\n",
       "    <tr>\n",
       "      <th>4</th>\n",
       "      <td>11782234878805415335</td>\n",
       "      <td>[1530824000,1532278205,1532278212,1532278223,1532278270,1532278281,1532278286]</td>\n",
       "      <td>['https://supermarket.ru/product','https://supermarket.ru/main','https://supermarket.ru/promo','https://supermarket.ru/search','https://supermarket.ru/search','https://supermarket.ru/product','https://supermarket.ru/search']</td>\n",
       "      <td>1532278205</td>\n",
       "    </tr>\n",
       "  </tbody>\n",
       "</table>\n",
       "</div>"
      ],
      "text/plain": [
       "               ClientID  \\\n",
       "0  11328496494700445631   \n",
       "1   4378518504153020253   \n",
       "2   3573365835552612154   \n",
       "3   6722497546488043716   \n",
       "4  11782234878805415335   \n",
       "\n",
       "                                                                                                                                                                    times  \\\n",
       "0                                                                                                                                                            [1530616006]   \n",
       "1                                                                                                                                                            [1533000503]   \n",
       "2                                                                                                                                                            [1530630727]   \n",
       "3  [1531310304,1531310317,1531310347,1531310454,1531311435,1531311438,1531312425,1531312725,1531312779,1531312785,1531316138,1532538815,1532538889,1532538902,1532538984]   \n",
       "4                                                                                          [1530824000,1532278205,1532278212,1532278223,1532278270,1532278281,1532278286]   \n",
       "\n",
       "                                                                                                                                                                                                                                                                                                                                                                                                                                                                                                           urls  \\\n",
       "0                                                                                                                                                                                                                                                                                                                                                                                                                                                                            ['https://supermarket.ru/catalog']   \n",
       "1                                                                                                                                                                                                                                                                                                                                                                                                                                                                            ['https://supermarket.ru/product']   \n",
       "2                                                                                                                                                                                                                                                                                                                                                                                                                                                                            ['https://supermarket.ru/product']   \n",
       "3  ['https://supermarket.ru/main','https://supermarket.ru/search','https://supermarket.ru/product','https://supermarket.ru/search','https://supermarket.ru/product','https://supermarket.ru/product','https://supermarket.ru/search','https://supermarket.ru/product','https://supermarket.ru/user_profile','https://supermarket.ru/product','https://supermarket.ru/product','https://supermarket.ru/main','https://supermarket.ru/catalog','https://supermarket.ru/catalog','https://supermarket.ru/product']   \n",
       "4                                                                                                                                                                                                                                                                              ['https://supermarket.ru/product','https://supermarket.ru/main','https://supermarket.ru/promo','https://supermarket.ru/search','https://supermarket.ru/search','https://supermarket.ru/product','https://supermarket.ru/search']   \n",
       "\n",
       "   step1_time  \n",
       "0           0  \n",
       "1           0  \n",
       "2           0  \n",
       "3  1531310304  \n",
       "4  1532278205  "
      ]
     },
     "execution_count": 64,
     "metadata": {},
     "output_type": "execute_result"
    }
   ],
   "source": [
    "q = '''\n",
    "SELECT\n",
    "    ClientID,\n",
    "    groupArray(cast(EventTime as UInt64)) as times,\n",
    "    groupArray(URL) as urls,\n",
    "    arrayFilter(time, url -> url = 'https://supermarket.ru/main', times, urls)[1] as step1_time\n",
    "FROM\n",
    "    (SELECT * FROM hits ORDER BY ClientID, EventTime)\n",
    "GROUP BY ClientID\n",
    "LIMIT 5\n",
    "FORMAT TabSeparatedWithNames\n",
    "'''\n",
    "\n",
    "get_clickhouse_df(q)"
   ]
  },
  {
   "cell_type": "code",
   "execution_count": 65,
   "metadata": {
    "collapsed": false
   },
   "outputs": [
    {
     "data": {
      "text/html": [
       "<div>\n",
       "<style scoped>\n",
       "    .dataframe tbody tr th:only-of-type {\n",
       "        vertical-align: middle;\n",
       "    }\n",
       "\n",
       "    .dataframe tbody tr th {\n",
       "        vertical-align: top;\n",
       "    }\n",
       "\n",
       "    .dataframe thead th {\n",
       "        text-align: right;\n",
       "    }\n",
       "</style>\n",
       "<table border=\"1\" class=\"dataframe\">\n",
       "  <thead>\n",
       "    <tr style=\"text-align: right;\">\n",
       "      <th></th>\n",
       "      <th>ClientID</th>\n",
       "      <th>times</th>\n",
       "      <th>urls</th>\n",
       "      <th>step1_time</th>\n",
       "      <th>step2_time</th>\n",
       "    </tr>\n",
       "  </thead>\n",
       "  <tbody>\n",
       "    <tr>\n",
       "      <th>0</th>\n",
       "      <td>11328496494700445631</td>\n",
       "      <td>[1530616006]</td>\n",
       "      <td>['https://supermarket.ru/catalog']</td>\n",
       "      <td>0</td>\n",
       "      <td>0</td>\n",
       "    </tr>\n",
       "    <tr>\n",
       "      <th>1</th>\n",
       "      <td>4378518504153020253</td>\n",
       "      <td>[1533000503]</td>\n",
       "      <td>['https://supermarket.ru/product']</td>\n",
       "      <td>0</td>\n",
       "      <td>0</td>\n",
       "    </tr>\n",
       "    <tr>\n",
       "      <th>2</th>\n",
       "      <td>3573365835552612154</td>\n",
       "      <td>[1530630727]</td>\n",
       "      <td>['https://supermarket.ru/product']</td>\n",
       "      <td>0</td>\n",
       "      <td>0</td>\n",
       "    </tr>\n",
       "    <tr>\n",
       "      <th>3</th>\n",
       "      <td>6722497546488043716</td>\n",
       "      <td>[1531310304,1531310317,1531310347,1531310454,1531311435,1531311438,1531312425,1531312725,1531312779,1531312785,1531316138,1532538815,1532538889,1532538902,1532538984]</td>\n",
       "      <td>['https://supermarket.ru/main','https://supermarket.ru/search','https://supermarket.ru/product','https://supermarket.ru/search','https://supermarket.ru/product','https://supermarket.ru/product','https://supermarket.ru/search','https://supermarket.ru/product','https://supermarket.ru/user_profile','https://supermarket.ru/product','https://supermarket.ru/product','https://supermarket.ru/main','https://supermarket.ru/catalog','https://supermarket.ru/catalog','https://supermarket.ru/product']</td>\n",
       "      <td>1531310304</td>\n",
       "      <td>1532538889</td>\n",
       "    </tr>\n",
       "    <tr>\n",
       "      <th>4</th>\n",
       "      <td>11782234878805415335</td>\n",
       "      <td>[1530824000,1532278205,1532278212,1532278223,1532278270,1532278281,1532278286]</td>\n",
       "      <td>['https://supermarket.ru/product','https://supermarket.ru/main','https://supermarket.ru/promo','https://supermarket.ru/search','https://supermarket.ru/search','https://supermarket.ru/product','https://supermarket.ru/search']</td>\n",
       "      <td>1532278205</td>\n",
       "      <td>0</td>\n",
       "    </tr>\n",
       "  </tbody>\n",
       "</table>\n",
       "</div>"
      ],
      "text/plain": [
       "               ClientID  \\\n",
       "0  11328496494700445631   \n",
       "1   4378518504153020253   \n",
       "2   3573365835552612154   \n",
       "3   6722497546488043716   \n",
       "4  11782234878805415335   \n",
       "\n",
       "                                                                                                                                                                    times  \\\n",
       "0                                                                                                                                                            [1530616006]   \n",
       "1                                                                                                                                                            [1533000503]   \n",
       "2                                                                                                                                                            [1530630727]   \n",
       "3  [1531310304,1531310317,1531310347,1531310454,1531311435,1531311438,1531312425,1531312725,1531312779,1531312785,1531316138,1532538815,1532538889,1532538902,1532538984]   \n",
       "4                                                                                          [1530824000,1532278205,1532278212,1532278223,1532278270,1532278281,1532278286]   \n",
       "\n",
       "                                                                                                                                                                                                                                                                                                                                                                                                                                                                                                           urls  \\\n",
       "0                                                                                                                                                                                                                                                                                                                                                                                                                                                                            ['https://supermarket.ru/catalog']   \n",
       "1                                                                                                                                                                                                                                                                                                                                                                                                                                                                            ['https://supermarket.ru/product']   \n",
       "2                                                                                                                                                                                                                                                                                                                                                                                                                                                                            ['https://supermarket.ru/product']   \n",
       "3  ['https://supermarket.ru/main','https://supermarket.ru/search','https://supermarket.ru/product','https://supermarket.ru/search','https://supermarket.ru/product','https://supermarket.ru/product','https://supermarket.ru/search','https://supermarket.ru/product','https://supermarket.ru/user_profile','https://supermarket.ru/product','https://supermarket.ru/product','https://supermarket.ru/main','https://supermarket.ru/catalog','https://supermarket.ru/catalog','https://supermarket.ru/product']   \n",
       "4                                                                                                                                                                                                                                                                              ['https://supermarket.ru/product','https://supermarket.ru/main','https://supermarket.ru/promo','https://supermarket.ru/search','https://supermarket.ru/search','https://supermarket.ru/product','https://supermarket.ru/search']   \n",
       "\n",
       "   step1_time  step2_time  \n",
       "0           0           0  \n",
       "1           0           0  \n",
       "2           0           0  \n",
       "3  1531310304  1532538889  \n",
       "4  1532278205           0  "
      ]
     },
     "execution_count": 65,
     "metadata": {},
     "output_type": "execute_result"
    }
   ],
   "source": [
    "q = '''\n",
    "SELECT\n",
    "    ClientID,\n",
    "    groupArray(cast(EventTime as UInt64)) as times,\n",
    "    groupArray(URL) as urls,\n",
    "    arrayFilter(time, url -> url = 'https://supermarket.ru/main', times, urls)[1] as step1_time,\n",
    "    arrayFilter(time, url -> url = 'https://supermarket.ru/catalog' and step1_time != 0 and time >= step1_time, times, urls)[1] as step2_time\n",
    "FROM\n",
    "    (SELECT * FROM hits ORDER BY ClientID, EventTime)\n",
    "GROUP BY ClientID\n",
    "LIMIT 5\n",
    "FORMAT TabSeparatedWithNames\n",
    "'''\n",
    "\n",
    "get_clickhouse_df(q)"
   ]
  },
  {
   "cell_type": "code",
   "execution_count": 66,
   "metadata": {
    "collapsed": true
   },
   "outputs": [],
   "source": [
    "q = '''\n",
    "SELECT\n",
    "    countIf(step1_time != 0) as step1,\n",
    "    countIf(step2_time != 0) as step2,\n",
    "    countIf(step3_time != 0) as step3,\n",
    "    countIf(step4_time != 0) as step4,\n",
    "    countIf(step5_time != 0) as step5\n",
    "FROM\n",
    "    (SELECT\n",
    "        ClientID,\n",
    "        groupArray(cast(EventTime as UInt64)) as times,\n",
    "        groupArray(URL) as urls,\n",
    "        arrayFilter(time, url -> url = 'https://supermarket.ru/main', times, urls)[1] as step1_time,\n",
    "        arrayFilter(time, url -> url = 'https://supermarket.ru/catalog' and step1_time != 0 and time >= step1_time, times, urls)[1] as step2_time,\n",
    "        arrayFilter(time, url -> url = 'https://supermarket.ru/product' and step2_time != 0 and time >= step2_time, times, urls)[1] as step3_time,\n",
    "        arrayFilter(time, url -> url = 'https://supermarket.ru/basket' and step3_time != 0 and time >= step3_time, times, urls)[1] as step4_time,\n",
    "        arrayFilter(time, url -> url = 'https://supermarket.ru/finish_order' and step4_time != 0 and time >= step4_time, times, urls)[1] as step5_time\n",
    "    FROM\n",
    "        (SELECT * FROM hits ORDER BY ClientID, EventTime)\n",
    "    GROUP BY ClientID)\n",
    "FORMAT TabSeparatedWithNames\n",
    "'''\n",
    "\n",
    "fdf = get_clickhouse_df(q)"
   ]
  },
  {
   "cell_type": "code",
   "execution_count": 75,
   "metadata": {
    "collapsed": false
   },
   "outputs": [
    {
     "name": "stdout",
     "output_type": "stream",
     "text": [
      "[500, 314, 211, 11, 3]\n"
     ]
    },
    {
     "data": {
      "application/vnd.plotly.v1+json": {
       "data": [
        {
         "mode": "text",
         "text": [
          "Main",
          "Catalog",
          "Product",
          "Basket",
          "Finish order"
         ],
         "textfont": {
          "color": "rgb(40,40,40)",
          "size": 15
         },
         "type": "scatter",
         "x": [
          -350,
          -350,
          -350,
          -350,
          -350
         ],
         "y": [
          490,
          380,
          270,
          160,
          50
         ]
        },
        {
         "mode": "text",
         "text": [
          53856,
          33919,
          22832,
          1213,
          351
         ],
         "textfont": {
          "color": "rgb(40,40,40)",
          "size": 15
         },
         "type": "scatter",
         "x": [
          350,
          350,
          350,
          350,
          350
         ],
         "y": [
          490,
          380,
          270,
          160,
          50
         ]
        }
       ],
       "layout": {
        "height": 560,
        "paper_bgcolor": "rgba(255,255,255,1)",
        "plot_bgcolor": "rgba(255,255,255,1)",
        "shapes": [
         {
          "fillcolor": "#d54936",
          "line": {
           "color": "#d54936",
           "width": 1
          },
          "path": "M 250 540 L 157 440 L -157 440 L -250 540 Z",
          "type": "path"
         },
         {
          "fillcolor": "#faca34",
          "line": {
           "color": "#faca34",
           "width": 1
          },
          "path": "M 157 430 L 105 330 L -105 330 L -157 430 Z",
          "type": "path"
         },
         {
          "fillcolor": "#437cba",
          "line": {
           "color": "#437cba",
           "width": 1
          },
          "path": "M 105 320 L 5 220 L -5 220 L -105 320 Z",
          "type": "path"
         },
         {
          "fillcolor": "#8bc34a",
          "line": {
           "color": "#8bc34a",
           "width": 1
          },
          "path": "M 5 210 L 1 110 L -1 110 L -5 210 Z",
          "type": "path"
         },
         {
          "fillcolor": "#795548",
          "line": {
           "color": "#795548",
           "width": 1
          },
          "path": "M 1 100 L 1 0 L -1 0 L -1 100 Z",
          "type": "path"
         }
        ],
        "showlegend": false,
        "title": "<b>Funnel Chart</b>",
        "titlefont": {
         "color": "rgb(0,0,0)",
         "size": 20
        },
        "width": 800,
        "xaxis": {
         "range": [
          -450,
          450
         ],
         "showgrid": false,
         "showticklabels": false,
         "zeroline": false
        },
        "yaxis": {
         "showgrid": false,
         "showticklabels": false,
         "zeroline": false
        }
       }
      },
      "text/html": [
       "<div id=\"72abbe73-dccc-40a9-a1fd-cbc614b8ee0c\" style=\"height: 560px; width: 800px;\" class=\"plotly-graph-div\"></div><script type=\"text/javascript\">require([\"plotly\"], function(Plotly) { window.PLOTLYENV=window.PLOTLYENV || {};window.PLOTLYENV.BASE_URL=\"https://plot.ly\";Plotly.newPlot(\"72abbe73-dccc-40a9-a1fd-cbc614b8ee0c\", [{\"textfont\": {\"color\": \"rgb(40,40,40)\", \"size\": 15}, \"text\": [\"Main\", \"Catalog\", \"Product\", \"Basket\", \"Finish order\"], \"mode\": \"text\", \"y\": [490, 380, 270, 160, 50], \"x\": [-350, -350, -350, -350, -350], \"type\": \"scatter\"}, {\"textfont\": {\"color\": \"rgb(40,40,40)\", \"size\": 15}, \"text\": [53856, 33919, 22832, 1213, 351], \"mode\": \"text\", \"y\": [490, 380, 270, 160, 50], \"x\": [350, 350, 350, 350, 350], \"type\": \"scatter\"}], {\"showlegend\": false, \"yaxis\": {\"zeroline\": false, \"showticklabels\": false, \"showgrid\": false}, \"paper_bgcolor\": \"rgba(255,255,255,1)\", \"plot_bgcolor\": \"rgba(255,255,255,1)\", \"title\": \"<b>Funnel Chart</b>\", \"height\": 560, \"shapes\": [{\"path\": \"M 250 540 L 157 440 L -157 440 L -250 540 Z\", \"line\": {\"color\": \"#d54936\", \"width\": 1}, \"type\": \"path\", \"fillcolor\": \"#d54936\"}, {\"path\": \"M 157 430 L 105 330 L -105 330 L -157 430 Z\", \"line\": {\"color\": \"#faca34\", \"width\": 1}, \"type\": \"path\", \"fillcolor\": \"#faca34\"}, {\"path\": \"M 105 320 L 5 220 L -5 220 L -105 320 Z\", \"line\": {\"color\": \"#437cba\", \"width\": 1}, \"type\": \"path\", \"fillcolor\": \"#437cba\"}, {\"path\": \"M 5 210 L 1 110 L -1 110 L -5 210 Z\", \"line\": {\"color\": \"#8bc34a\", \"width\": 1}, \"type\": \"path\", \"fillcolor\": \"#8bc34a\"}, {\"path\": \"M 1 100 L 1 0 L -1 0 L -1 100 Z\", \"line\": {\"color\": \"#795548\", \"width\": 1}, \"type\": \"path\", \"fillcolor\": \"#795548\"}], \"width\": 800, \"titlefont\": {\"color\": \"rgb(0,0,0)\", \"size\": 20}, \"xaxis\": {\"zeroline\": false, \"range\": [-450, 450], \"showticklabels\": false, \"showgrid\": false}}, {\"linkText\": \"Export to plot.ly\", \"showLink\": false})});</script>"
      ],
      "text/vnd.plotly.v1+html": [
       "<div id=\"72abbe73-dccc-40a9-a1fd-cbc614b8ee0c\" style=\"height: 560px; width: 800px;\" class=\"plotly-graph-div\"></div><script type=\"text/javascript\">require([\"plotly\"], function(Plotly) { window.PLOTLYENV=window.PLOTLYENV || {};window.PLOTLYENV.BASE_URL=\"https://plot.ly\";Plotly.newPlot(\"72abbe73-dccc-40a9-a1fd-cbc614b8ee0c\", [{\"textfont\": {\"color\": \"rgb(40,40,40)\", \"size\": 15}, \"text\": [\"Main\", \"Catalog\", \"Product\", \"Basket\", \"Finish order\"], \"mode\": \"text\", \"y\": [490, 380, 270, 160, 50], \"x\": [-350, -350, -350, -350, -350], \"type\": \"scatter\"}, {\"textfont\": {\"color\": \"rgb(40,40,40)\", \"size\": 15}, \"text\": [53856, 33919, 22832, 1213, 351], \"mode\": \"text\", \"y\": [490, 380, 270, 160, 50], \"x\": [350, 350, 350, 350, 350], \"type\": \"scatter\"}], {\"showlegend\": false, \"yaxis\": {\"zeroline\": false, \"showticklabels\": false, \"showgrid\": false}, \"paper_bgcolor\": \"rgba(255,255,255,1)\", \"plot_bgcolor\": \"rgba(255,255,255,1)\", \"title\": \"<b>Funnel Chart</b>\", \"height\": 560, \"shapes\": [{\"path\": \"M 250 540 L 157 440 L -157 440 L -250 540 Z\", \"line\": {\"color\": \"#d54936\", \"width\": 1}, \"type\": \"path\", \"fillcolor\": \"#d54936\"}, {\"path\": \"M 157 430 L 105 330 L -105 330 L -157 430 Z\", \"line\": {\"color\": \"#faca34\", \"width\": 1}, \"type\": \"path\", \"fillcolor\": \"#faca34\"}, {\"path\": \"M 105 320 L 5 220 L -5 220 L -105 320 Z\", \"line\": {\"color\": \"#437cba\", \"width\": 1}, \"type\": \"path\", \"fillcolor\": \"#437cba\"}, {\"path\": \"M 5 210 L 1 110 L -1 110 L -5 210 Z\", \"line\": {\"color\": \"#8bc34a\", \"width\": 1}, \"type\": \"path\", \"fillcolor\": \"#8bc34a\"}, {\"path\": \"M 1 100 L 1 0 L -1 0 L -1 100 Z\", \"line\": {\"color\": \"#795548\", \"width\": 1}, \"type\": \"path\", \"fillcolor\": \"#795548\"}], \"width\": 800, \"titlefont\": {\"color\": \"rgb(0,0,0)\", \"size\": 20}, \"xaxis\": {\"zeroline\": false, \"range\": [-450, 450], \"showticklabels\": false, \"showgrid\": false}}, {\"linkText\": \"Export to plot.ly\", \"showLink\": false})});</script>"
      ]
     },
     "metadata": {},
     "output_type": "display_data"
    }
   ],
   "source": [
    "phases = ['Main', 'Catalog', 'Product', 'Basket', 'Finish order']\n",
    "values = fdf.iloc[0].values\n",
    "\n",
    "plot_funnel(phases, values)"
   ]
  },
  {
   "cell_type": "markdown",
   "metadata": {},
   "source": [
    "Можем также посчитать среднее время достижения шагов"
   ]
  },
  {
   "cell_type": "code",
   "execution_count": 70,
   "metadata": {
    "collapsed": false
   },
   "outputs": [
    {
     "data": {
      "text/html": [
       "<div>\n",
       "<style scoped>\n",
       "    .dataframe tbody tr th:only-of-type {\n",
       "        vertical-align: middle;\n",
       "    }\n",
       "\n",
       "    .dataframe tbody tr th {\n",
       "        vertical-align: top;\n",
       "    }\n",
       "\n",
       "    .dataframe thead th {\n",
       "        text-align: right;\n",
       "    }\n",
       "</style>\n",
       "<table border=\"1\" class=\"dataframe\">\n",
       "  <thead>\n",
       "    <tr style=\"text-align: right;\">\n",
       "      <th></th>\n",
       "      <th>step2_from_step1_mean_time</th>\n",
       "      <th>step3_from_step2_mean_time</th>\n",
       "      <th>step4_from_step3_mean_time</th>\n",
       "      <th>step5_from_step4_mean_time</th>\n",
       "    </tr>\n",
       "  </thead>\n",
       "  <tbody>\n",
       "    <tr>\n",
       "      <th>0</th>\n",
       "      <td>51</td>\n",
       "      <td>89</td>\n",
       "      <td>996</td>\n",
       "      <td>370</td>\n",
       "    </tr>\n",
       "  </tbody>\n",
       "</table>\n",
       "</div>"
      ],
      "text/plain": [
       "   step2_from_step1_mean_time  step3_from_step2_mean_time  \\\n",
       "0                          51                          89   \n",
       "\n",
       "   step4_from_step3_mean_time  step5_from_step4_mean_time  \n",
       "0                         996                         370  "
      ]
     },
     "execution_count": 70,
     "metadata": {},
     "output_type": "execute_result"
    }
   ],
   "source": [
    "q = '''\n",
    "SELECT\n",
    "    medianIf(step2_time - step1_time, step2_time != 0) as step2_from_step1_mean_time,\n",
    "    medianIf(step3_time - step2_time, step3_time != 0) as step3_from_step2_mean_time,\n",
    "    medianIf(step4_time - step3_time, step4_time != 0) as step4_from_step3_mean_time,\n",
    "    medianIf(step5_time - step4_time, step5_time != 0) as step5_from_step4_mean_time\n",
    "FROM\n",
    "    (SELECT\n",
    "        ClientID,\n",
    "        groupArray(cast(EventTime as UInt64)) as times,\n",
    "        groupArray(URL) as urls,\n",
    "        arrayFilter(time, url -> url = 'https://supermarket.ru/main', times, urls)[1] as step1_time,\n",
    "        arrayFilter(time, url -> url = 'https://supermarket.ru/catalog' and step1_time != 0 and time >= step1_time, times, urls)[1] as step2_time,\n",
    "        arrayFilter(time, url -> url = 'https://supermarket.ru/product' and step2_time != 0 and time >= step2_time, times, urls)[1] as step3_time,\n",
    "        arrayFilter(time, url -> url = 'https://supermarket.ru/basket' and step3_time != 0 and time >= step3_time, times, urls)[1] as step4_time,\n",
    "        arrayFilter(time, url -> url = 'https://supermarket.ru/finish_order' and step4_time != 0 and time >= step4_time, times, urls)[1] as step5_time\n",
    "    FROM\n",
    "        (SELECT * FROM hits ORDER BY ClientID, EventTime)\n",
    "    GROUP BY ClientID)\n",
    "FORMAT TabSeparatedWithNames\n",
    "'''\n",
    "\n",
    "get_clickhouse_df(q)"
   ]
  },
  {
   "cell_type": "code",
   "execution_count": null,
   "metadata": {
    "collapsed": true
   },
   "outputs": [],
   "source": []
  }
 ],
 "metadata": {
  "kernelspec": {
   "display_name": "Python 2",
   "language": "python",
   "name": "python2"
  },
  "language_info": {
   "codemirror_mode": {
    "name": "ipython",
    "version": 2
   },
   "file_extension": ".py",
   "mimetype": "text/x-python",
   "name": "python",
   "nbconvert_exporter": "python",
   "pygments_lexer": "ipython2",
   "version": "2.7.13"
  }
 },
 "nbformat": 4,
 "nbformat_minor": 2
}
